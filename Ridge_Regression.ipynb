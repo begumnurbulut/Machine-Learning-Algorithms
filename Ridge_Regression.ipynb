{
  "nbformat": 4,
  "nbformat_minor": 0,
  "metadata": {
    "colab": {
      "provenance": []
    },
    "kernelspec": {
      "name": "python3",
      "display_name": "Python 3"
    },
    "language_info": {
      "name": "python"
    }
  },
  "cells": [
    {
      "cell_type": "markdown",
      "source": [
        "# **Ridge Regresyon Modeli**\n",
        "\n",
        "\n",
        "\n",
        "*   Aşırı öğrenmeye dirençli\n",
        "*   Yanlıdır fakat varyansı düşüktür (Bazen yanlı modeller daha çok tercih edilir)\n",
        "\n",
        "\n",
        "*   Çok fazla parametre olduğu için EKK'ya göre daha iyidir\n",
        "*   Çok boyutluluk lanetine karşı çözüm sunar (Çok boyutluluk: değişken sayısının gözlem sayısından fazla olması durumudur)\n",
        "\n",
        "*   Çoklu doğrusal bağlantı problemine karşı etkilidir.(Çoklu doğrusal bağlantı problemi: bağımsız değişkenler arasında yüksek korelasyon olması durumudur)\n",
        "\n",
        "\n",
        "*   Tüm değişkenler ile model kurar, ilgisiz değişkenleri modelden çıkartmaz. Katsayılarını sıfıra yaklaştırır.\n",
        "*   Lambda kritik ögedir. formüldeki iki terimini etkilerini kontrol etme imkanı sağlar. Lambda ayar parametremizdir.\n",
        "\n",
        "\n",
        "*   Lamba için iyi bir değer bulunması önemlidir bunun için cv yöntemi uygulanır.\n",
        "\n",
        "\n",
        "\n",
        "\n",
        "\n",
        "\n",
        "\n",
        "\n",
        "\n"
      ],
      "metadata": {
        "id": "kVQRf6vbL1sK"
      }
    },
    {
      "cell_type": "markdown",
      "source": [
        "**Burada amaç hata kareler toplamını minimize eden katsayıları, bu katsayılara bir ceza uygulayarak bulmaktır.**"
      ],
      "metadata": {
        "id": "PDd9ZW0wMbO6"
      }
    },
    {
      "cell_type": "markdown",
      "source": [
        "*   Lambda'nın sıfır olduğu zamanda model EKK'dır (klasik regresyon).\n",
        "\n",
        "*   Lambda için belirli bir değer içeren küme seçilir ve her birisi için cross validation test hatası hesaplanır.\n",
        "\n",
        "*   En küçük cross validation'u verem lamba ayar parametresi olarak seçilir.\n",
        "\n",
        "*   Seçilen lambda ile model yeniden tüm gözlemlere fit edilir.\n"
      ],
      "metadata": {
        "id": "WvwAz3pAPPKH"
      }
    },
    {
      "cell_type": "markdown",
      "source": [
        "# **Gerekli Kütüphaneler**"
      ],
      "metadata": {
        "id": "a5Tw6CDLQWsl"
      }
    },
    {
      "cell_type": "code",
      "execution_count": 32,
      "metadata": {
        "id": "agxWaMqGLhBS"
      },
      "outputs": [],
      "source": [
        "import numpy as np\n",
        "import pandas as pd\n",
        "from sklearn.linear_model import Ridge\n",
        "from sklearn.metrics import mean_squared_error, r2_score\n",
        "from sklearn.model_selection import train_test_split\n",
        "from sklearn import model_selection\n",
        "import matplotlib.pyplot as plt\n",
        "from sklearn.linear_model import RidgeCV\n",
        "from sklearn.model_selection import cross_val_score"
      ]
    },
    {
      "cell_type": "markdown",
      "source": [
        "# **Veri Seti**"
      ],
      "metadata": {
        "id": "CqpCwRduRMi8"
      }
    },
    {
      "cell_type": "code",
      "source": [
        "df = pd.read_csv('/content/Hitters.csv')\n"
      ],
      "metadata": {
        "id": "Z5l4zOQgRO8c"
      },
      "execution_count": 3,
      "outputs": []
    },
    {
      "cell_type": "code",
      "source": [
        "df=df.dropna() #İçerisindeki boş değerleri kaldırdık"
      ],
      "metadata": {
        "id": "PsWB0l-iRwt1"
      },
      "execution_count": 4,
      "outputs": []
    },
    {
      "cell_type": "code",
      "source": [
        "dms= pd.get_dummies(df[['League','Division','NewLeague']]) #Kategorik değişkenleri dummie değişkene çevirdik. (One-hot encoding)"
      ],
      "metadata": {
        "id": "IDjGyNr8R1QB"
      },
      "execution_count": 5,
      "outputs": []
    },
    {
      "cell_type": "code",
      "source": [
        "y = df['Salary']\n",
        "x_ = df.drop(['Salary','League','Division','NewLeague'],axis=1).astype('float64') #Kategorik ve bağımlı değişkenleri atıyoruz ve bağımsız değişkenleri elde ediyoruz\n",
        "x = pd.concat([x_,dms[['League_N','Division_W','NewLeague_N']]],axis=1) #Oluşturduğumuz dummieler ile bağımsız değişkenlerimizi bir araya getiriyoruz."
      ],
      "metadata": {
        "id": "cjY363qjSFB_"
      },
      "execution_count": 6,
      "outputs": []
    },
    {
      "cell_type": "code",
      "source": [
        "x_train, x_test, y_train, y_test = train_test_split(x,\n",
        "                                                    y,\n",
        "                                                    test_size=0.25,\n",
        "                                                    random_state=42)"
      ],
      "metadata": {
        "id": "p1570XXWSNGB"
      },
      "execution_count": 7,
      "outputs": []
    },
    {
      "cell_type": "markdown",
      "source": [
        "Veri seti: Baseball oyuncularına ait bir veri setidir. Bu veri setinde oyunculara ilişkin maaşları, attıkları sayı, oynadıkları lig gibi bilgiler yer almaktadır."
      ],
      "metadata": {
        "id": "DhbOeRI9UjKV"
      }
    },
    {
      "cell_type": "code",
      "source": [
        "df.head()"
      ],
      "metadata": {
        "colab": {
          "base_uri": "https://localhost:8080/",
          "height": 206
        },
        "id": "I7A0g79jUS9j",
        "outputId": "b1c222ec-12a2-4094-9aab-f8e28d8a2fc5"
      },
      "execution_count": 8,
      "outputs": [
        {
          "output_type": "execute_result",
          "data": {
            "text/plain": [
              "   AtBat  Hits  HmRun  Runs  RBI  Walks  Years  CAtBat  CHits  CHmRun  CRuns  \\\n",
              "1    315    81      7    24   38     39     14    3449    835      69    321   \n",
              "2    479   130     18    66   72     76      3    1624    457      63    224   \n",
              "3    496   141     20    65   78     37     11    5628   1575     225    828   \n",
              "4    321    87     10    39   42     30      2     396    101      12     48   \n",
              "5    594   169      4    74   51     35     11    4408   1133      19    501   \n",
              "\n",
              "   CRBI  CWalks League Division  PutOuts  Assists  Errors  Salary NewLeague  \n",
              "1   414     375      N        W      632       43      10   475.0         N  \n",
              "2   266     263      A        W      880       82      14   480.0         A  \n",
              "3   838     354      N        E      200       11       3   500.0         N  \n",
              "4    46      33      N        E      805       40       4    91.5         N  \n",
              "5   336     194      A        W      282      421      25   750.0         A  "
            ],
            "text/html": [
              "\n",
              "  <div id=\"df-3354ae3d-e5a4-4b43-a8c9-46c104bd0536\" class=\"colab-df-container\">\n",
              "    <div>\n",
              "<style scoped>\n",
              "    .dataframe tbody tr th:only-of-type {\n",
              "        vertical-align: middle;\n",
              "    }\n",
              "\n",
              "    .dataframe tbody tr th {\n",
              "        vertical-align: top;\n",
              "    }\n",
              "\n",
              "    .dataframe thead th {\n",
              "        text-align: right;\n",
              "    }\n",
              "</style>\n",
              "<table border=\"1\" class=\"dataframe\">\n",
              "  <thead>\n",
              "    <tr style=\"text-align: right;\">\n",
              "      <th></th>\n",
              "      <th>AtBat</th>\n",
              "      <th>Hits</th>\n",
              "      <th>HmRun</th>\n",
              "      <th>Runs</th>\n",
              "      <th>RBI</th>\n",
              "      <th>Walks</th>\n",
              "      <th>Years</th>\n",
              "      <th>CAtBat</th>\n",
              "      <th>CHits</th>\n",
              "      <th>CHmRun</th>\n",
              "      <th>CRuns</th>\n",
              "      <th>CRBI</th>\n",
              "      <th>CWalks</th>\n",
              "      <th>League</th>\n",
              "      <th>Division</th>\n",
              "      <th>PutOuts</th>\n",
              "      <th>Assists</th>\n",
              "      <th>Errors</th>\n",
              "      <th>Salary</th>\n",
              "      <th>NewLeague</th>\n",
              "    </tr>\n",
              "  </thead>\n",
              "  <tbody>\n",
              "    <tr>\n",
              "      <th>1</th>\n",
              "      <td>315</td>\n",
              "      <td>81</td>\n",
              "      <td>7</td>\n",
              "      <td>24</td>\n",
              "      <td>38</td>\n",
              "      <td>39</td>\n",
              "      <td>14</td>\n",
              "      <td>3449</td>\n",
              "      <td>835</td>\n",
              "      <td>69</td>\n",
              "      <td>321</td>\n",
              "      <td>414</td>\n",
              "      <td>375</td>\n",
              "      <td>N</td>\n",
              "      <td>W</td>\n",
              "      <td>632</td>\n",
              "      <td>43</td>\n",
              "      <td>10</td>\n",
              "      <td>475.0</td>\n",
              "      <td>N</td>\n",
              "    </tr>\n",
              "    <tr>\n",
              "      <th>2</th>\n",
              "      <td>479</td>\n",
              "      <td>130</td>\n",
              "      <td>18</td>\n",
              "      <td>66</td>\n",
              "      <td>72</td>\n",
              "      <td>76</td>\n",
              "      <td>3</td>\n",
              "      <td>1624</td>\n",
              "      <td>457</td>\n",
              "      <td>63</td>\n",
              "      <td>224</td>\n",
              "      <td>266</td>\n",
              "      <td>263</td>\n",
              "      <td>A</td>\n",
              "      <td>W</td>\n",
              "      <td>880</td>\n",
              "      <td>82</td>\n",
              "      <td>14</td>\n",
              "      <td>480.0</td>\n",
              "      <td>A</td>\n",
              "    </tr>\n",
              "    <tr>\n",
              "      <th>3</th>\n",
              "      <td>496</td>\n",
              "      <td>141</td>\n",
              "      <td>20</td>\n",
              "      <td>65</td>\n",
              "      <td>78</td>\n",
              "      <td>37</td>\n",
              "      <td>11</td>\n",
              "      <td>5628</td>\n",
              "      <td>1575</td>\n",
              "      <td>225</td>\n",
              "      <td>828</td>\n",
              "      <td>838</td>\n",
              "      <td>354</td>\n",
              "      <td>N</td>\n",
              "      <td>E</td>\n",
              "      <td>200</td>\n",
              "      <td>11</td>\n",
              "      <td>3</td>\n",
              "      <td>500.0</td>\n",
              "      <td>N</td>\n",
              "    </tr>\n",
              "    <tr>\n",
              "      <th>4</th>\n",
              "      <td>321</td>\n",
              "      <td>87</td>\n",
              "      <td>10</td>\n",
              "      <td>39</td>\n",
              "      <td>42</td>\n",
              "      <td>30</td>\n",
              "      <td>2</td>\n",
              "      <td>396</td>\n",
              "      <td>101</td>\n",
              "      <td>12</td>\n",
              "      <td>48</td>\n",
              "      <td>46</td>\n",
              "      <td>33</td>\n",
              "      <td>N</td>\n",
              "      <td>E</td>\n",
              "      <td>805</td>\n",
              "      <td>40</td>\n",
              "      <td>4</td>\n",
              "      <td>91.5</td>\n",
              "      <td>N</td>\n",
              "    </tr>\n",
              "    <tr>\n",
              "      <th>5</th>\n",
              "      <td>594</td>\n",
              "      <td>169</td>\n",
              "      <td>4</td>\n",
              "      <td>74</td>\n",
              "      <td>51</td>\n",
              "      <td>35</td>\n",
              "      <td>11</td>\n",
              "      <td>4408</td>\n",
              "      <td>1133</td>\n",
              "      <td>19</td>\n",
              "      <td>501</td>\n",
              "      <td>336</td>\n",
              "      <td>194</td>\n",
              "      <td>A</td>\n",
              "      <td>W</td>\n",
              "      <td>282</td>\n",
              "      <td>421</td>\n",
              "      <td>25</td>\n",
              "      <td>750.0</td>\n",
              "      <td>A</td>\n",
              "    </tr>\n",
              "  </tbody>\n",
              "</table>\n",
              "</div>\n",
              "    <div class=\"colab-df-buttons\">\n",
              "\n",
              "  <div class=\"colab-df-container\">\n",
              "    <button class=\"colab-df-convert\" onclick=\"convertToInteractive('df-3354ae3d-e5a4-4b43-a8c9-46c104bd0536')\"\n",
              "            title=\"Convert this dataframe to an interactive table.\"\n",
              "            style=\"display:none;\">\n",
              "\n",
              "  <svg xmlns=\"http://www.w3.org/2000/svg\" height=\"24px\" viewBox=\"0 -960 960 960\">\n",
              "    <path d=\"M120-120v-720h720v720H120Zm60-500h600v-160H180v160Zm220 220h160v-160H400v160Zm0 220h160v-160H400v160ZM180-400h160v-160H180v160Zm440 0h160v-160H620v160ZM180-180h160v-160H180v160Zm440 0h160v-160H620v160Z\"/>\n",
              "  </svg>\n",
              "    </button>\n",
              "\n",
              "  <style>\n",
              "    .colab-df-container {\n",
              "      display:flex;\n",
              "      gap: 12px;\n",
              "    }\n",
              "\n",
              "    .colab-df-convert {\n",
              "      background-color: #E8F0FE;\n",
              "      border: none;\n",
              "      border-radius: 50%;\n",
              "      cursor: pointer;\n",
              "      display: none;\n",
              "      fill: #1967D2;\n",
              "      height: 32px;\n",
              "      padding: 0 0 0 0;\n",
              "      width: 32px;\n",
              "    }\n",
              "\n",
              "    .colab-df-convert:hover {\n",
              "      background-color: #E2EBFA;\n",
              "      box-shadow: 0px 1px 2px rgba(60, 64, 67, 0.3), 0px 1px 3px 1px rgba(60, 64, 67, 0.15);\n",
              "      fill: #174EA6;\n",
              "    }\n",
              "\n",
              "    .colab-df-buttons div {\n",
              "      margin-bottom: 4px;\n",
              "    }\n",
              "\n",
              "    [theme=dark] .colab-df-convert {\n",
              "      background-color: #3B4455;\n",
              "      fill: #D2E3FC;\n",
              "    }\n",
              "\n",
              "    [theme=dark] .colab-df-convert:hover {\n",
              "      background-color: #434B5C;\n",
              "      box-shadow: 0px 1px 3px 1px rgba(0, 0, 0, 0.15);\n",
              "      filter: drop-shadow(0px 1px 2px rgba(0, 0, 0, 0.3));\n",
              "      fill: #FFFFFF;\n",
              "    }\n",
              "  </style>\n",
              "\n",
              "    <script>\n",
              "      const buttonEl =\n",
              "        document.querySelector('#df-3354ae3d-e5a4-4b43-a8c9-46c104bd0536 button.colab-df-convert');\n",
              "      buttonEl.style.display =\n",
              "        google.colab.kernel.accessAllowed ? 'block' : 'none';\n",
              "\n",
              "      async function convertToInteractive(key) {\n",
              "        const element = document.querySelector('#df-3354ae3d-e5a4-4b43-a8c9-46c104bd0536');\n",
              "        const dataTable =\n",
              "          await google.colab.kernel.invokeFunction('convertToInteractive',\n",
              "                                                    [key], {});\n",
              "        if (!dataTable) return;\n",
              "\n",
              "        const docLinkHtml = 'Like what you see? Visit the ' +\n",
              "          '<a target=\"_blank\" href=https://colab.research.google.com/notebooks/data_table.ipynb>data table notebook</a>'\n",
              "          + ' to learn more about interactive tables.';\n",
              "        element.innerHTML = '';\n",
              "        dataTable['output_type'] = 'display_data';\n",
              "        await google.colab.output.renderOutput(dataTable, element);\n",
              "        const docLink = document.createElement('div');\n",
              "        docLink.innerHTML = docLinkHtml;\n",
              "        element.appendChild(docLink);\n",
              "      }\n",
              "    </script>\n",
              "  </div>\n",
              "\n",
              "\n",
              "<div id=\"df-a1bffb7e-e6b0-49de-b3b5-a560c25c6726\">\n",
              "  <button class=\"colab-df-quickchart\" onclick=\"quickchart('df-a1bffb7e-e6b0-49de-b3b5-a560c25c6726')\"\n",
              "            title=\"Suggest charts\"\n",
              "            style=\"display:none;\">\n",
              "\n",
              "<svg xmlns=\"http://www.w3.org/2000/svg\" height=\"24px\"viewBox=\"0 0 24 24\"\n",
              "     width=\"24px\">\n",
              "    <g>\n",
              "        <path d=\"M19 3H5c-1.1 0-2 .9-2 2v14c0 1.1.9 2 2 2h14c1.1 0 2-.9 2-2V5c0-1.1-.9-2-2-2zM9 17H7v-7h2v7zm4 0h-2V7h2v10zm4 0h-2v-4h2v4z\"/>\n",
              "    </g>\n",
              "</svg>\n",
              "  </button>\n",
              "\n",
              "<style>\n",
              "  .colab-df-quickchart {\n",
              "      --bg-color: #E8F0FE;\n",
              "      --fill-color: #1967D2;\n",
              "      --hover-bg-color: #E2EBFA;\n",
              "      --hover-fill-color: #174EA6;\n",
              "      --disabled-fill-color: #AAA;\n",
              "      --disabled-bg-color: #DDD;\n",
              "  }\n",
              "\n",
              "  [theme=dark] .colab-df-quickchart {\n",
              "      --bg-color: #3B4455;\n",
              "      --fill-color: #D2E3FC;\n",
              "      --hover-bg-color: #434B5C;\n",
              "      --hover-fill-color: #FFFFFF;\n",
              "      --disabled-bg-color: #3B4455;\n",
              "      --disabled-fill-color: #666;\n",
              "  }\n",
              "\n",
              "  .colab-df-quickchart {\n",
              "    background-color: var(--bg-color);\n",
              "    border: none;\n",
              "    border-radius: 50%;\n",
              "    cursor: pointer;\n",
              "    display: none;\n",
              "    fill: var(--fill-color);\n",
              "    height: 32px;\n",
              "    padding: 0;\n",
              "    width: 32px;\n",
              "  }\n",
              "\n",
              "  .colab-df-quickchart:hover {\n",
              "    background-color: var(--hover-bg-color);\n",
              "    box-shadow: 0 1px 2px rgba(60, 64, 67, 0.3), 0 1px 3px 1px rgba(60, 64, 67, 0.15);\n",
              "    fill: var(--button-hover-fill-color);\n",
              "  }\n",
              "\n",
              "  .colab-df-quickchart-complete:disabled,\n",
              "  .colab-df-quickchart-complete:disabled:hover {\n",
              "    background-color: var(--disabled-bg-color);\n",
              "    fill: var(--disabled-fill-color);\n",
              "    box-shadow: none;\n",
              "  }\n",
              "\n",
              "  .colab-df-spinner {\n",
              "    border: 2px solid var(--fill-color);\n",
              "    border-color: transparent;\n",
              "    border-bottom-color: var(--fill-color);\n",
              "    animation:\n",
              "      spin 1s steps(1) infinite;\n",
              "  }\n",
              "\n",
              "  @keyframes spin {\n",
              "    0% {\n",
              "      border-color: transparent;\n",
              "      border-bottom-color: var(--fill-color);\n",
              "      border-left-color: var(--fill-color);\n",
              "    }\n",
              "    20% {\n",
              "      border-color: transparent;\n",
              "      border-left-color: var(--fill-color);\n",
              "      border-top-color: var(--fill-color);\n",
              "    }\n",
              "    30% {\n",
              "      border-color: transparent;\n",
              "      border-left-color: var(--fill-color);\n",
              "      border-top-color: var(--fill-color);\n",
              "      border-right-color: var(--fill-color);\n",
              "    }\n",
              "    40% {\n",
              "      border-color: transparent;\n",
              "      border-right-color: var(--fill-color);\n",
              "      border-top-color: var(--fill-color);\n",
              "    }\n",
              "    60% {\n",
              "      border-color: transparent;\n",
              "      border-right-color: var(--fill-color);\n",
              "    }\n",
              "    80% {\n",
              "      border-color: transparent;\n",
              "      border-right-color: var(--fill-color);\n",
              "      border-bottom-color: var(--fill-color);\n",
              "    }\n",
              "    90% {\n",
              "      border-color: transparent;\n",
              "      border-bottom-color: var(--fill-color);\n",
              "    }\n",
              "  }\n",
              "</style>\n",
              "\n",
              "  <script>\n",
              "    async function quickchart(key) {\n",
              "      const quickchartButtonEl =\n",
              "        document.querySelector('#' + key + ' button');\n",
              "      quickchartButtonEl.disabled = true;  // To prevent multiple clicks.\n",
              "      quickchartButtonEl.classList.add('colab-df-spinner');\n",
              "      try {\n",
              "        const charts = await google.colab.kernel.invokeFunction(\n",
              "            'suggestCharts', [key], {});\n",
              "      } catch (error) {\n",
              "        console.error('Error during call to suggestCharts:', error);\n",
              "      }\n",
              "      quickchartButtonEl.classList.remove('colab-df-spinner');\n",
              "      quickchartButtonEl.classList.add('colab-df-quickchart-complete');\n",
              "    }\n",
              "    (() => {\n",
              "      let quickchartButtonEl =\n",
              "        document.querySelector('#df-a1bffb7e-e6b0-49de-b3b5-a560c25c6726 button');\n",
              "      quickchartButtonEl.style.display =\n",
              "        google.colab.kernel.accessAllowed ? 'block' : 'none';\n",
              "    })();\n",
              "  </script>\n",
              "</div>\n",
              "\n",
              "    </div>\n",
              "  </div>\n"
            ],
            "application/vnd.google.colaboratory.intrinsic+json": {
              "type": "dataframe",
              "variable_name": "df",
              "summary": "{\n  \"name\": \"df\",\n  \"rows\": 263,\n  \"fields\": [\n    {\n      \"column\": \"AtBat\",\n      \"properties\": {\n        \"dtype\": \"number\",\n        \"std\": 147,\n        \"min\": 19,\n        \"max\": 687,\n        \"num_unique_values\": 209,\n        \"samples\": [\n          268,\n          523,\n          327\n        ],\n        \"semantic_type\": \"\",\n        \"description\": \"\"\n      }\n    },\n    {\n      \"column\": \"Hits\",\n      \"properties\": {\n        \"dtype\": \"number\",\n        \"std\": 45,\n        \"min\": 1,\n        \"max\": 238,\n        \"num_unique_values\": 130,\n        \"samples\": [\n          115,\n          131,\n          163\n        ],\n        \"semantic_type\": \"\",\n        \"description\": \"\"\n      }\n    },\n    {\n      \"column\": \"HmRun\",\n      \"properties\": {\n        \"dtype\": \"number\",\n        \"std\": 8,\n        \"min\": 0,\n        \"max\": 40,\n        \"num_unique_values\": 35,\n        \"samples\": [\n          27,\n          16,\n          29\n        ],\n        \"semantic_type\": \"\",\n        \"description\": \"\"\n      }\n    },\n    {\n      \"column\": \"Runs\",\n      \"properties\": {\n        \"dtype\": \"number\",\n        \"std\": 25,\n        \"min\": 0,\n        \"max\": 130,\n        \"num_unique_values\": 92,\n        \"samples\": [\n          78,\n          90,\n          33\n        ],\n        \"semantic_type\": \"\",\n        \"description\": \"\"\n      }\n    },\n    {\n      \"column\": \"RBI\",\n      \"properties\": {\n        \"dtype\": \"number\",\n        \"std\": 25,\n        \"min\": 0,\n        \"max\": 121,\n        \"num_unique_values\": 94,\n        \"samples\": [\n          94,\n          95,\n          58\n        ],\n        \"semantic_type\": \"\",\n        \"description\": \"\"\n      }\n    },\n    {\n      \"column\": \"Walks\",\n      \"properties\": {\n        \"dtype\": \"number\",\n        \"std\": 21,\n        \"min\": 0,\n        \"max\": 105,\n        \"num_unique_values\": 87,\n        \"samples\": [\n          44,\n          39,\n          84\n        ],\n        \"semantic_type\": \"\",\n        \"description\": \"\"\n      }\n    },\n    {\n      \"column\": \"Years\",\n      \"properties\": {\n        \"dtype\": \"number\",\n        \"std\": 4,\n        \"min\": 1,\n        \"max\": 24,\n        \"num_unique_values\": 21,\n        \"samples\": [\n          14,\n          16,\n          17\n        ],\n        \"semantic_type\": \"\",\n        \"description\": \"\"\n      }\n    },\n    {\n      \"column\": \"CAtBat\",\n      \"properties\": {\n        \"dtype\": \"number\",\n        \"std\": 2286,\n        \"min\": 19,\n        \"max\": 14053,\n        \"num_unique_values\": 257,\n        \"samples\": [\n          209,\n          1966,\n          6063\n        ],\n        \"semantic_type\": \"\",\n        \"description\": \"\"\n      }\n    },\n    {\n      \"column\": \"CHits\",\n      \"properties\": {\n        \"dtype\": \"number\",\n        \"std\": 648,\n        \"min\": 4,\n        \"max\": 4256,\n        \"num_unique_values\": 241,\n        \"samples\": [\n          633,\n          108,\n          1145\n        ],\n        \"semantic_type\": \"\",\n        \"description\": \"\"\n      }\n    },\n    {\n      \"column\": \"CHmRun\",\n      \"properties\": {\n        \"dtype\": \"number\",\n        \"std\": 82,\n        \"min\": 0,\n        \"max\": 548,\n        \"num_unique_values\": 129,\n        \"samples\": [\n          181,\n          9,\n          67\n        ],\n        \"semantic_type\": \"\",\n        \"description\": \"\"\n      }\n    },\n    {\n      \"column\": \"CRuns\",\n      \"properties\": {\n        \"dtype\": \"number\",\n        \"std\": 331,\n        \"min\": 2,\n        \"max\": 2165,\n        \"num_unique_values\": 226,\n        \"samples\": [\n          702,\n          128,\n          310\n        ],\n        \"semantic_type\": \"\",\n        \"description\": \"\"\n      }\n    },\n    {\n      \"column\": \"CRBI\",\n      \"properties\": {\n        \"dtype\": \"number\",\n        \"std\": 323,\n        \"min\": 3,\n        \"max\": 1659,\n        \"num_unique_values\": 226,\n        \"samples\": [\n          504,\n          273,\n          579\n        ],\n        \"semantic_type\": \"\",\n        \"description\": \"\"\n      }\n    },\n    {\n      \"column\": \"CWalks\",\n      \"properties\": {\n        \"dtype\": \"number\",\n        \"std\": 264,\n        \"min\": 1,\n        \"max\": 1566,\n        \"num_unique_values\": 207,\n        \"samples\": [\n          403,\n          39,\n          709\n        ],\n        \"semantic_type\": \"\",\n        \"description\": \"\"\n      }\n    },\n    {\n      \"column\": \"League\",\n      \"properties\": {\n        \"dtype\": \"category\",\n        \"num_unique_values\": 2,\n        \"samples\": [\n          \"A\",\n          \"N\"\n        ],\n        \"semantic_type\": \"\",\n        \"description\": \"\"\n      }\n    },\n    {\n      \"column\": \"Division\",\n      \"properties\": {\n        \"dtype\": \"category\",\n        \"num_unique_values\": 2,\n        \"samples\": [\n          \"E\",\n          \"W\"\n        ],\n        \"semantic_type\": \"\",\n        \"description\": \"\"\n      }\n    },\n    {\n      \"column\": \"PutOuts\",\n      \"properties\": {\n        \"dtype\": \"number\",\n        \"std\": 279,\n        \"min\": 0,\n        \"max\": 1377,\n        \"num_unique_values\": 199,\n        \"samples\": [\n          207,\n          202\n        ],\n        \"semantic_type\": \"\",\n        \"description\": \"\"\n      }\n    },\n    {\n      \"column\": \"Assists\",\n      \"properties\": {\n        \"dtype\": \"number\",\n        \"std\": 145,\n        \"min\": 0,\n        \"max\": 492,\n        \"num_unique_values\": 145,\n        \"samples\": [\n          15,\n          72\n        ],\n        \"semantic_type\": \"\",\n        \"description\": \"\"\n      }\n    },\n    {\n      \"column\": \"Errors\",\n      \"properties\": {\n        \"dtype\": \"number\",\n        \"std\": 6,\n        \"min\": 0,\n        \"max\": 32,\n        \"num_unique_values\": 29,\n        \"samples\": [\n          17,\n          13\n        ],\n        \"semantic_type\": \"\",\n        \"description\": \"\"\n      }\n    },\n    {\n      \"column\": \"Salary\",\n      \"properties\": {\n        \"dtype\": \"number\",\n        \"std\": 451.11868070253865,\n        \"min\": 67.5,\n        \"max\": 2460.0,\n        \"num_unique_values\": 150,\n        \"samples\": [\n          400.0,\n          600.0\n        ],\n        \"semantic_type\": \"\",\n        \"description\": \"\"\n      }\n    },\n    {\n      \"column\": \"NewLeague\",\n      \"properties\": {\n        \"dtype\": \"category\",\n        \"num_unique_values\": 2,\n        \"samples\": [\n          \"A\",\n          \"N\"\n        ],\n        \"semantic_type\": \"\",\n        \"description\": \"\"\n      }\n    }\n  ]\n}"
            }
          },
          "metadata": {},
          "execution_count": 8
        }
      ]
    },
    {
      "cell_type": "code",
      "source": [
        "df.shape"
      ],
      "metadata": {
        "colab": {
          "base_uri": "https://localhost:8080/"
        },
        "id": "-R3NYlSvUVaX",
        "outputId": "a07d96e3-dbf2-4c06-9bcb-22d44efead33"
      },
      "execution_count": 9,
      "outputs": [
        {
          "output_type": "execute_result",
          "data": {
            "text/plain": [
              "(263, 20)"
            ]
          },
          "metadata": {},
          "execution_count": 9
        }
      ]
    },
    {
      "cell_type": "markdown",
      "source": [
        "**Bu veri setinde amacımız salary değerini diğer değişkenleri kullanarak tahmin etmeye çalışmak olacaktır.**"
      ],
      "metadata": {
        "id": "f5gtqqTOUYBO"
      }
    },
    {
      "cell_type": "markdown",
      "source": [
        "\n",
        "# *Bu kısımda veri manipülasyonui, keşifçi veri analizi yapılması gerekmektedir.*"
      ],
      "metadata": {
        "id": "UyE6SpcSXKth"
      }
    },
    {
      "cell_type": "markdown",
      "source": [
        "# **Ridge Fonksiyonu**"
      ],
      "metadata": {
        "id": "rlcnC9ZVXnIF"
      }
    },
    {
      "cell_type": "code",
      "source": [
        "ridge_model = Ridge(alpha=0.1).fit(x_train,y_train)"
      ],
      "metadata": {
        "id": "qvagVKKGXe12"
      },
      "execution_count": 10,
      "outputs": []
    },
    {
      "cell_type": "code",
      "source": [
        "ridge_model"
      ],
      "metadata": {
        "colab": {
          "base_uri": "https://localhost:8080/",
          "height": 74
        },
        "id": "xqQyzrBdX7On",
        "outputId": "dbccb42e-e46c-4511-a3bc-7be15c96f823"
      },
      "execution_count": 13,
      "outputs": [
        {
          "output_type": "execute_result",
          "data": {
            "text/plain": [
              "Ridge(alpha=0.1)"
            ],
            "text/html": [
              "<style>#sk-container-id-2 {color: black;background-color: white;}#sk-container-id-2 pre{padding: 0;}#sk-container-id-2 div.sk-toggleable {background-color: white;}#sk-container-id-2 label.sk-toggleable__label {cursor: pointer;display: block;width: 100%;margin-bottom: 0;padding: 0.3em;box-sizing: border-box;text-align: center;}#sk-container-id-2 label.sk-toggleable__label-arrow:before {content: \"▸\";float: left;margin-right: 0.25em;color: #696969;}#sk-container-id-2 label.sk-toggleable__label-arrow:hover:before {color: black;}#sk-container-id-2 div.sk-estimator:hover label.sk-toggleable__label-arrow:before {color: black;}#sk-container-id-2 div.sk-toggleable__content {max-height: 0;max-width: 0;overflow: hidden;text-align: left;background-color: #f0f8ff;}#sk-container-id-2 div.sk-toggleable__content pre {margin: 0.2em;color: black;border-radius: 0.25em;background-color: #f0f8ff;}#sk-container-id-2 input.sk-toggleable__control:checked~div.sk-toggleable__content {max-height: 200px;max-width: 100%;overflow: auto;}#sk-container-id-2 input.sk-toggleable__control:checked~label.sk-toggleable__label-arrow:before {content: \"▾\";}#sk-container-id-2 div.sk-estimator input.sk-toggleable__control:checked~label.sk-toggleable__label {background-color: #d4ebff;}#sk-container-id-2 div.sk-label input.sk-toggleable__control:checked~label.sk-toggleable__label {background-color: #d4ebff;}#sk-container-id-2 input.sk-hidden--visually {border: 0;clip: rect(1px 1px 1px 1px);clip: rect(1px, 1px, 1px, 1px);height: 1px;margin: -1px;overflow: hidden;padding: 0;position: absolute;width: 1px;}#sk-container-id-2 div.sk-estimator {font-family: monospace;background-color: #f0f8ff;border: 1px dotted black;border-radius: 0.25em;box-sizing: border-box;margin-bottom: 0.5em;}#sk-container-id-2 div.sk-estimator:hover {background-color: #d4ebff;}#sk-container-id-2 div.sk-parallel-item::after {content: \"\";width: 100%;border-bottom: 1px solid gray;flex-grow: 1;}#sk-container-id-2 div.sk-label:hover label.sk-toggleable__label {background-color: #d4ebff;}#sk-container-id-2 div.sk-serial::before {content: \"\";position: absolute;border-left: 1px solid gray;box-sizing: border-box;top: 0;bottom: 0;left: 50%;z-index: 0;}#sk-container-id-2 div.sk-serial {display: flex;flex-direction: column;align-items: center;background-color: white;padding-right: 0.2em;padding-left: 0.2em;position: relative;}#sk-container-id-2 div.sk-item {position: relative;z-index: 1;}#sk-container-id-2 div.sk-parallel {display: flex;align-items: stretch;justify-content: center;background-color: white;position: relative;}#sk-container-id-2 div.sk-item::before, #sk-container-id-2 div.sk-parallel-item::before {content: \"\";position: absolute;border-left: 1px solid gray;box-sizing: border-box;top: 0;bottom: 0;left: 50%;z-index: -1;}#sk-container-id-2 div.sk-parallel-item {display: flex;flex-direction: column;z-index: 1;position: relative;background-color: white;}#sk-container-id-2 div.sk-parallel-item:first-child::after {align-self: flex-end;width: 50%;}#sk-container-id-2 div.sk-parallel-item:last-child::after {align-self: flex-start;width: 50%;}#sk-container-id-2 div.sk-parallel-item:only-child::after {width: 0;}#sk-container-id-2 div.sk-dashed-wrapped {border: 1px dashed gray;margin: 0 0.4em 0.5em 0.4em;box-sizing: border-box;padding-bottom: 0.4em;background-color: white;}#sk-container-id-2 div.sk-label label {font-family: monospace;font-weight: bold;display: inline-block;line-height: 1.2em;}#sk-container-id-2 div.sk-label-container {text-align: center;}#sk-container-id-2 div.sk-container {/* jupyter's `normalize.less` sets `[hidden] { display: none; }` but bootstrap.min.css set `[hidden] { display: none !important; }` so we also need the `!important` here to be able to override the default hidden behavior on the sphinx rendered scikit-learn.org. See: https://github.com/scikit-learn/scikit-learn/issues/21755 */display: inline-block !important;position: relative;}#sk-container-id-2 div.sk-text-repr-fallback {display: none;}</style><div id=\"sk-container-id-2\" class=\"sk-top-container\"><div class=\"sk-text-repr-fallback\"><pre>Ridge(alpha=0.1)</pre><b>In a Jupyter environment, please rerun this cell to show the HTML representation or trust the notebook. <br />On GitHub, the HTML representation is unable to render, please try loading this page with nbviewer.org.</b></div><div class=\"sk-container\" hidden><div class=\"sk-item\"><div class=\"sk-estimator sk-toggleable\"><input class=\"sk-toggleable__control sk-hidden--visually\" id=\"sk-estimator-id-2\" type=\"checkbox\" checked><label for=\"sk-estimator-id-2\" class=\"sk-toggleable__label sk-toggleable__label-arrow\">Ridge</label><div class=\"sk-toggleable__content\"><pre>Ridge(alpha=0.1)</pre></div></div></div></div></div>"
            ]
          },
          "metadata": {},
          "execution_count": 13
        }
      ]
    },
    {
      "cell_type": "code",
      "source": [
        "ridge_model.coef_ #Alpha 1 olduğundaki katsayı değerleri"
      ],
      "metadata": {
        "colab": {
          "base_uri": "https://localhost:8080/"
        },
        "id": "y1U27FNMYGQ3",
        "outputId": "1fb554ae-90c7-4f22-92ee-64a6c51e572d"
      },
      "execution_count": 14,
      "outputs": [
        {
          "output_type": "execute_result",
          "data": {
            "text/plain": [
              "array([ -1.77435737,   8.80240528,   7.29595605,  -3.33257639,\n",
              "        -2.08316481,   5.42531283,   7.58514945,  -0.13752764,\n",
              "        -0.20779701,  -0.60361067,   1.7927957 ,   0.72866408,\n",
              "        -0.68710375,   0.26153564,   0.26888652,  -0.52674278,\n",
              "       112.14640272, -99.80997876, -48.07152768])"
            ]
          },
          "metadata": {},
          "execution_count": 14
        }
      ]
    },
    {
      "cell_type": "code",
      "source": [
        "ridge_model.intercept_ #Alpha 1 olduğundaki sabit değer"
      ],
      "metadata": {
        "colab": {
          "base_uri": "https://localhost:8080/"
        },
        "id": "RQ2IjZm6Ycfb",
        "outputId": "356f58bf-883c-45d9-e2aa-3393c20c0c7a"
      },
      "execution_count": 15,
      "outputs": [
        {
          "output_type": "execute_result",
          "data": {
            "text/plain": [
              "-4.578626905723354"
            ]
          },
          "metadata": {},
          "execution_count": 15
        }
      ]
    },
    {
      "cell_type": "code",
      "source": [
        "lambdalar = 10**np.linspace(10,-2,100)*0.5 #Lambda değerleri #linspace rastgele sayılar çekmek için kullanılıyordu."
      ],
      "metadata": {
        "id": "_x5f8UYgYnN0"
      },
      "execution_count": 16,
      "outputs": []
    },
    {
      "cell_type": "code",
      "source": [
        "lambdalar"
      ],
      "metadata": {
        "colab": {
          "base_uri": "https://localhost:8080/"
        },
        "id": "dI4PaucCY3Ji",
        "outputId": "9f53a031-3a79-4eba-fd34-870c2e4eabf4"
      },
      "execution_count": 17,
      "outputs": [
        {
          "output_type": "execute_result",
          "data": {
            "text/plain": [
              "array([5.00000000e+09, 3.78231664e+09, 2.86118383e+09, 2.16438064e+09,\n",
              "       1.63727458e+09, 1.23853818e+09, 9.36908711e+08, 7.08737081e+08,\n",
              "       5.36133611e+08, 4.05565415e+08, 3.06795364e+08, 2.32079442e+08,\n",
              "       1.75559587e+08, 1.32804389e+08, 1.00461650e+08, 7.59955541e+07,\n",
              "       5.74878498e+07, 4.34874501e+07, 3.28966612e+07, 2.48851178e+07,\n",
              "       1.88246790e+07, 1.42401793e+07, 1.07721735e+07, 8.14875417e+06,\n",
              "       6.16423370e+06, 4.66301673e+06, 3.52740116e+06, 2.66834962e+06,\n",
              "       2.01850863e+06, 1.52692775e+06, 1.15506485e+06, 8.73764200e+05,\n",
              "       6.60970574e+05, 5.00000000e+05, 3.78231664e+05, 2.86118383e+05,\n",
              "       2.16438064e+05, 1.63727458e+05, 1.23853818e+05, 9.36908711e+04,\n",
              "       7.08737081e+04, 5.36133611e+04, 4.05565415e+04, 3.06795364e+04,\n",
              "       2.32079442e+04, 1.75559587e+04, 1.32804389e+04, 1.00461650e+04,\n",
              "       7.59955541e+03, 5.74878498e+03, 4.34874501e+03, 3.28966612e+03,\n",
              "       2.48851178e+03, 1.88246790e+03, 1.42401793e+03, 1.07721735e+03,\n",
              "       8.14875417e+02, 6.16423370e+02, 4.66301673e+02, 3.52740116e+02,\n",
              "       2.66834962e+02, 2.01850863e+02, 1.52692775e+02, 1.15506485e+02,\n",
              "       8.73764200e+01, 6.60970574e+01, 5.00000000e+01, 3.78231664e+01,\n",
              "       2.86118383e+01, 2.16438064e+01, 1.63727458e+01, 1.23853818e+01,\n",
              "       9.36908711e+00, 7.08737081e+00, 5.36133611e+00, 4.05565415e+00,\n",
              "       3.06795364e+00, 2.32079442e+00, 1.75559587e+00, 1.32804389e+00,\n",
              "       1.00461650e+00, 7.59955541e-01, 5.74878498e-01, 4.34874501e-01,\n",
              "       3.28966612e-01, 2.48851178e-01, 1.88246790e-01, 1.42401793e-01,\n",
              "       1.07721735e-01, 8.14875417e-02, 6.16423370e-02, 4.66301673e-02,\n",
              "       3.52740116e-02, 2.66834962e-02, 2.01850863e-02, 1.52692775e-02,\n",
              "       1.15506485e-02, 8.73764200e-03, 6.60970574e-03, 5.00000000e-03])"
            ]
          },
          "metadata": {},
          "execution_count": 17
        }
      ]
    },
    {
      "cell_type": "code",
      "source": [
        "Ridge_model= Ridge()\n",
        "Katsayılar = []\n",
        "\n",
        "for i in lambdalar:\n",
        "  ridge_model.set_params(alpha=i)\n",
        "  ridge_model.fit(x_train,y_train)\n",
        "  Katsayılar.append(ridge_model.coef_)\n"
      ],
      "metadata": {
        "id": "Zo9JOQgOY8Ks"
      },
      "execution_count": 18,
      "outputs": []
    },
    {
      "cell_type": "code",
      "source": [
        "Katsayılar"
      ],
      "metadata": {
        "colab": {
          "base_uri": "https://localhost:8080/"
        },
        "id": "WbBEs1xjZzng",
        "outputId": "59f9e234-30fd-4b3a-e6de-b1b82aa18bc5"
      },
      "execution_count": 19,
      "outputs": [
        {
          "output_type": "execute_result",
          "data": {
            "text/plain": [
              "[array([ 1.08705828e-03,  3.59972026e-04,  5.52181027e-05,  1.92813177e-04,\n",
              "         1.96696069e-04,  1.59478501e-04,  2.78199599e-05,  1.78978518e-02,\n",
              "         5.28448603e-03,  6.33684784e-04,  2.78574434e-03,  2.70578331e-03,\n",
              "         1.95710128e-03,  1.87423190e-03,  1.54040667e-04,  2.97933111e-06,\n",
              "         2.39984989e-07, -1.51804510e-06,  3.31089982e-07]),\n",
              " array([ 1.41677983e-03,  4.69820454e-04,  7.18242293e-05,  2.52218183e-04,\n",
              "         2.55763476e-04,  2.07728851e-04,  3.41731833e-05,  2.22675231e-02,\n",
              "         6.58971645e-03,  7.96723486e-04,  3.48283639e-03,  3.38849662e-03,\n",
              "         2.44474193e-03,  2.46055074e-03,  2.00411447e-04,  4.05879985e-06,\n",
              "         3.06791363e-07, -2.00697735e-06,  4.22750663e-07]),\n",
              " array([ 1.84180994e-03,  6.11797854e-04,  9.31516430e-05,  3.29313865e-04,\n",
              "         3.31574150e-04,  2.69862282e-04,  4.11993224e-05,  2.73092348e-02,\n",
              "         8.10613246e-03,  9.90615632e-04,  4.29892819e-03,  4.19154557e-03,\n",
              "         3.01420413e-03,  3.22598807e-03,  2.59998767e-04,  5.54696646e-06,\n",
              "         3.89590845e-07, -2.65335139e-06,  5.35999686e-07]),\n",
              " array([ 2.38835573e-03,  7.94911180e-04,  1.20464748e-04,  4.29197870e-04,\n",
              "         4.28587877e-04,  3.49672945e-04,  4.85735865e-05,  3.29487297e-02,\n",
              "         9.81901671e-03,  1.21671761e-03,  5.23061273e-03,  5.11427511e-03,\n",
              "         3.66208312e-03,  4.22364586e-03,  3.36365620e-04,  7.59686227e-06,\n",
              "         4.91353840e-07, -3.50777634e-06,  6.74604224e-07]),\n",
              " array([ 3.09009626e-03,  1.03077807e-03,  1.55382775e-04,  5.58473604e-04,\n",
              "         5.52508877e-04,  4.52038103e-04,  5.57795062e-05,  3.90401495e-02,\n",
              "         1.16953022e-02,  1.47539158e-03,  6.26651564e-03,  6.14928402e-03,\n",
              "         4.37897884e-03,  5.52205602e-03,  4.34090225e-04,  1.04109479e-05,\n",
              "         6.15653427e-07, -4.63702970e-06,  8.42961127e-07]),\n",
              " array([ 3.99078636e-03,  1.33452564e-03,  2.00008537e-04,  7.25754223e-04,\n",
              "         7.10738029e-04,  5.83304802e-04,  6.21041602e-05,  4.53725039e-02,\n",
              "         1.36860237e-02,  1.76653067e-03,  7.38894131e-03,  7.28417751e-03,\n",
              "         5.15056825e-03,  7.20959605e-03,  5.59142468e-04,  1.42511133e-05,\n",
              "         7.67085867e-07, -6.12914603e-06,  1.04655631e-06]),\n",
              " array([ 5.14774210e-03,  1.72599105e-03,  2.57103265e-04,  9.42329790e-04,\n",
              "         9.12986699e-04,  7.51813035e-04,  6.66592521e-05,  5.16922252e-02,\n",
              "         1.57335162e-02,  2.09064895e-03,  8.57804087e-03,  8.50573034e-03,\n",
              "         5.96044306e-03,  9.39987293e-03,  7.19400260e-04,  1.94483594e-05,\n",
              "         9.51936629e-07, -8.10006447e-06,  1.29268236e-06]),\n",
              " array([ 6.63625037e-03,  2.23124851e-03,  3.30309746e-04,  1.22301529e-03,\n",
              "         1.17205779e-03,  9.68565766e-04,  6.84187693e-05,  5.77371815e-02,\n",
              "         1.77820817e-02,  2.45041949e-03,  9.81789688e-03,  9.80588055e-03,\n",
              "         6.79427058e-03,  1.22378921e-02,  9.25318808e-04,  2.64114755e-05,\n",
              "         1.17910270e-06, -1.07022908e-05,  1.59137023e-06]),\n",
              " array([ 8.55483745e-03,  2.88445935e-03,  4.24420527e-04,  1.58718502e-03,\n",
              "         1.50477879e-03,  1.24804330e-03,  6.62540589e-05,  6.32720806e-02,\n",
              "         1.97893052e-02,  2.85238338e-03,  1.11031502e-02,  1.11882336e-02,\n",
              "         7.64428385e-03,  1.59064960e-02,  1.19075375e-03,  3.56332379e-05,\n",
              "         1.46126190e-06, -1.41361477e-05,  1.95642271e-06]),\n",
              " array([ 1.10312454e-02,  3.73002061e-03,  5.45684591e-04,  2.05998878e-03,\n",
              "         1.93305764e-03,  1.60915216e-03,  5.89463545e-05,  6.81144258e-02,\n",
              "         2.17349754e-02,  3.30852528e-03,  1.24446956e-02,  1.26736367e-02,\n",
              "         8.51303131e-03,  2.06320735e-02,  1.53393253e-03,  4.76905218e-05,\n",
              "         1.81630840e-06, -1.86643235e-05,  2.40641302e-06]),\n",
              " array([ 1.42288809e-02,  4.82496917e-03,  7.02143825e-04,  2.67373455e-03,\n",
              "         2.48502252e-03,  2.07629541e-03,  4.51663040e-05,  7.21446369e-02,\n",
              "         2.36258289e-02,  3.83753128e-03,  1.38736179e-02,  1.43039512e-02,\n",
              "         9.41577138e-03,  2.66878486e-02,  1.97856321e-03,  6.32307599e-05,\n",
              "         2.26916665e-06, -2.46305879e-05,  2.96553891e-06]),\n",
              " array([ 1.83533492e-02,  6.24156186e-03,  9.03986475e-04,  3.46940075e-03,\n",
              "         3.19618820e-03,  2.68054308e-03,  2.34244013e-05,  7.53005841e-02,\n",
              "         2.54962052e-02,  4.46571897e-03,  1.54434962e-02,  1.61439894e-02,\n",
              "         1.03815693e-02,  3.43920784e-02,  2.55505046e-03,  8.29312258e-05,\n",
              "         2.85425312e-06, -3.24837353e-05,  3.66428247e-06]),\n",
              " array([ 2.36583931e-02,  8.06987606e-03,  1.16389452e-03,  4.49819833e-03,\n",
              "         4.11055071e-03,  3.46085782e-03, -7.99178240e-06,  7.75617205e-02,\n",
              "         2.74060905e-02,  5.22774181e-03,  1.72319022e-02,  1.82821668e-02,\n",
              "         1.14536429e-02,  4.40972790e-02,  3.30173084e-03,  1.07409746e-04,\n",
              "         3.61908966e-06, -4.28080520e-05,  4.53991031e-06]),\n",
              " array([ 3.04501016e-02,  1.04201578e-02,  1.49734514e-03,  5.82303756e-03,\n",
              "         5.28144612e-03,  4.46529082e-03, -5.10715931e-05,  7.89293976e-02,\n",
              "         2.94384183e-02,  6.16716441e-03,  1.93421004e-02,  2.08305107e-02,\n",
              "         1.26896156e-02,  5.61654836e-02,  4.26591900e-03,  1.37056133e-04,\n",
              "         4.62994572e-06, -5.63619514e-05,  5.63701574e-06]),\n",
              " array([ 3.90877335e-02,  1.34245129e-02,  1.92280724e-03,  7.51967840e-03,\n",
              "         6.77193714e-03,  5.75201908e-03, -1.08103747e-04,  7.94085363e-02,\n",
              "         3.16971295e-02,  7.33690583e-03,  2.19057141e-02,  2.39243876e-02,\n",
              "         1.41621442e-02,  7.09243460e-02,  5.50434864e-03,  1.71744357e-04,\n",
              "         5.98103051e-06, -7.41269482e-05,  7.00870479e-06]),\n",
              " array([ 4.99790908e-02,  1.72374527e-02,  2.46176162e-03,  9.67728453e-03,\n",
              "         8.65444650e-03,  7.39007141e-03, -1.81647005e-04,  7.89933590e-02,\n",
              "         3.43069156e-02,  8.79941161e-03,  2.50867048e-02,  2.77219584e-02,\n",
              "         1.59600508e-02,  8.86010366e-02,  7.08228283e-03,  2.10379504e-04,\n",
              "         7.80986903e-06, -9.73700195e-05,  8.71990580e-06]),\n",
              " array([ 6.35683184e-02,  2.20348389e-02,  3.13847615e-03,  1.23980931e-02,\n",
              "         1.10093810e-02,  9.45961578e-03, -2.74433813e-04,  7.76577086e-02,\n",
              "         3.74152151e-02,  1.06262815e-02,  2.90865964e-02,  3.24031662e-02,\n",
              "         1.81897361e-02,  1.09236939e-01,  9.07018129e-03,  2.50236073e-04,\n",
              "         1.03233178e-05, -1.27723784e-04,  1.08559283e-05]),\n",
              " array([ 8.03144193e-02,  2.80109646e-02,  3.97948810e-03,  1.57959666e-02,\n",
              "         1.39225986e-02,  1.20517651e-02, -3.89198631e-04,  7.53491228e-02,\n",
              "         4.11970425e-02,  1.28969399e-02,  3.41504870e-02,  3.81680540e-02,\n",
              "         2.09762607e-02,  1.32596777e-01,  1.15364715e-02,  2.86060551e-04,\n",
              "         1.38414001e-05, -1.67290929e-04,  1.35420021e-05]),\n",
              " array([ 1.00659415e-01,  3.53737763e-02,  5.01276201e-03,  1.99936664e-02,\n",
              "         1.74817046e-02,  1.52679591e-02, -5.28428627e-04,  7.19852765e-02,\n",
              "         4.58634610e-02,  1.56957180e-02,  4.05729409e-02,  4.52341750e-02,\n",
              "         2.44629669e-02,  1.58098532e-01,  1.45349889e-02,  3.08943729e-04,\n",
              "         1.88697449e-05, -2.18781763e-04,  1.69829249e-05]),\n",
              " array([ 1.24985300e-01,  4.43383743e-02,  6.26646135e-03,  2.51186578e-02,\n",
              "         2.17711724e-02,  1.92189991e-02, -6.94031851e-04,  6.74515998e-02,\n",
              "         5.16745666e-02,  1.91063111e-02,  4.87021870e-02,  5.38323815e-02,\n",
              "         2.88077603e-02,  1.84798490e-01,  1.80865855e-02,  3.05013003e-04,\n",
              "         2.62154267e-05, -2.85696212e-04,  2.15353352e-05]),\n",
              " array([ 1.53558197e-01,  5.51187291e-02,  7.76715884e-03,  3.12970555e-02,\n",
              "         2.68660409e-02,  2.40236617e-02, -8.86898780e-04,  6.15998145e-02,\n",
              "         5.89572171e-02,  2.32019817e-02,  5.89401216e-02,  6.41990135e-02,\n",
              "         3.41732141e-02,  2.11459552e-01,  2.21569148e-02,  2.54044649e-04,\n",
              "         3.71643214e-05, -3.72563522e-04,  2.78270230e-05]),\n",
              " array([ 1.86457341e-01,  6.79172663e-02,  9.53716658e-03,  3.86451070e-02,\n",
              "         3.28235831e-02,  2.98066321e-02, -1.10629915e-03,  5.42486226e-02,\n",
              "         6.81259518e-02,  2.80294254e-02,  7.17346292e-02,  7.65608732e-02,\n",
              "         4.07069956e-02,  2.36706263e-01,  2.66367239e-02,  1.28145040e-04,\n",
              "         5.37390333e-05, -4.85254784e-04,  3.69363946e-05]),\n",
              " array([ 2.23488679e-01,  8.29124771e-02,  1.15906901e-02,  4.72579656e-02,\n",
              "         3.96724511e-02,  3.66957155e-02, -1.34902777e-03,  4.51891944e-02,\n",
              "         7.97025208e-02,  3.35848087e-02,  8.75603655e-02,  9.11090818e-02,\n",
              "         4.85098565e-02,  2.59234910e-01,  3.13359801e-02, -1.09311057e-04,\n",
              "         7.90531634e-05, -6.31387074e-04,  5.06394947e-05]),\n",
              " array([ 2.64091406e-01,  1.00247072e-01,  1.39289695e-02,  5.71971039e-02,\n",
              "         4.74001434e-02,  4.48194982e-02, -1.60821935e-03,  3.41983905e-02,\n",
              "         9.43255889e-02,  3.97832322e-02,  1.06885319e-01,  1.07961438e-01,\n",
              "         5.75920571e-02,  2.78020879e-01,  3.60055069e-02, -5.04310897e-04,\n",
              "         1.17769153e-04, -8.20846578e-04,  7.17218276e-05]),\n",
              " array([ 3.07259930e-01,  1.20023291e-01,  1.65355470e-02,  6.84805408e-02,\n",
              "         5.59422985e-02,  5.43089014e-02, -1.87179996e-03,  2.10611519e-02,\n",
              "         1.12738462e-01,  4.64280598e-02,  1.30123747e-01,  1.27121136e-01,\n",
              "         6.78260905e-02,  2.92464684e-01,  4.03947313e-02, -1.11239332e-03,\n",
              "         1.76654795e-04, -1.06647321e-03,  1.04339598e-04]),\n",
              " array([ 3.51515911e-01,  1.42315715e-01,  1.93739007e-02,  8.10827983e-02,\n",
              "         6.51800228e-02,  6.53084038e-02, -2.12059533e-03,  5.60078488e-03,\n",
              "         1.35740789e-01,  5.31920946e-02,  1.57580614e-01,  1.48449082e-01,\n",
              "         7.89114962e-02,  3.02442388e-01,  4.43389399e-02, -1.99879194e-03,\n",
              "         2.65224510e-04, -1.38496929e-03,  1.54405607e-04]),\n",
              " array([ 3.94963670e-01,  1.67212044e-01,  2.23900744e-02,  9.49519148e-02,\n",
              "         7.49518524e-02,  7.80032771e-02, -2.32611607e-03, -1.22861853e-02,\n",
              "         1.64092518e-01,  5.96238619e-02,  1.89396119e-01,  1.71669244e-01,\n",
              "         9.03706006e-02,  3.08260068e-01,  4.78484595e-02, -3.23949414e-03,\n",
              "         3.96457704e-04, -1.79811559e-03,  2.29979158e-04]),\n",
              " array([ 4.35440787e-01,  1.94886967e-01,  2.55218451e-02,  1.10047299e-01,\n",
              "         8.50833041e-02,  9.26665587e-02, -2.44796656e-03, -3.25937122e-02,\n",
              "         1.98367303e-01,  6.51849964e-02,  2.25498900e-01,  1.96414281e-01,\n",
              "         1.01586618e-01,  3.10538783e-01,  5.11581599e-02, -4.92458797e-03,\n",
              "         5.87619775e-04, -2.33439666e-03,  3.41667593e-04]),\n",
              " array([ 0.4707398 ,  0.22570501,  0.02871347,  0.12639534,  0.09542999,\n",
              "         0.10972413, -0.00243074, -0.05516994,  0.23876852,  0.06931006,\n",
              "         0.26557372,  0.2222951 ,  0.11187863,  0.31006874,  0.05470242,\n",
              "        -0.00716513,  0.00086127, -0.00303116,  0.0005031 ]),\n",
              " array([ 0.49884358,  0.26033979,  0.03193236,  0.14415252,  0.10592353,\n",
              "         0.12983066, -0.00220023, -0.07968271,  0.28494095,  0.07146667,\n",
              "         0.30904807,  0.24895963,  0.12059091,  0.30767017,  0.05901068,\n",
              "        -0.01010398,  0.00124662, -0.00393745,  0.0007316 ]),\n",
              " array([ 0.51810441,  0.29989425,  0.03518278,  0.16366201,  0.11660696,\n",
              "         0.15394607, -0.00165906, -0.10559393,  0.33582833,  0.07119222,\n",
              "         0.35510609,  0.27611091,  0.12716769,  0.30408785,  0.06455753,\n",
              "        -0.01392994,  0.00178144, -0.00511776,  0.00104922]),\n",
              " array([ 0.52731238,  0.34600997,  0.0385126 ,  0.18549005,  0.1276497 ,\n",
              "         0.18340272, -0.00068181, -0.13215709,  0.38963232,  0.06809583,\n",
              "         0.40274434,  0.30348383,  0.13119077,  0.29993061,  0.07162596,\n",
              "        -0.01889366,  0.00251475, -0.0066569 ,  0.00148436]),\n",
              " array([ 0.52563557,  0.40096129,  0.04201125,  0.21043195,  0.13933819,\n",
              "         0.21995563,  0.00088985, -0.15845442,  0.44391197,  0.06183284,\n",
              "         0.45088281,  0.33080995,  0.13237205,  0.2956528 ,  0.08023781,\n",
              "        -0.02532345,  0.00351064, -0.00866639,  0.00207418]),\n",
              " array([ 0.51245689,  0.46773416,  0.04579935,  0.23947869,  0.15204364,\n",
              "         0.26581035,  0.00325215, -0.18347884,  0.49582229,  0.05207147,\n",
              "         0.49852755,  0.35780758,  0.13050722,  0.29156508,  0.09017435,\n",
              "        -0.03363913,  0.00485343, -0.01129272,  0.00286803]),\n",
              " array([ 0.48716485,  0.55008855,  0.05001106,  0.27373331,  0.16616941,\n",
              "         0.32362115,  0.00664439, -0.20624638,  0.54243844,  0.03847238,\n",
              "         0.54495307,  0.38421156,  0.1254093 ,  0.28786002,  0.10106927,\n",
              "        -0.04436196,  0.00665481, -0.01472784,  0.00393228]),\n",
              " array([ 0.4489693 ,  0.65259294,  0.0547705 ,  0.31425899,  0.18207896,\n",
              "         0.39644748,  0.01135508, -0.22590778,  0.58107838,  0.02069636,\n",
              "         0.58985146,  0.40982593,  0.11684682,  0.28464147,  0.11252912,\n",
              "        -0.05811777,  0.00906349, -0.01922258,  0.00535701]),\n",
              " array([ 0.3968063 ,  0.78060342,  0.06016408,  0.36183375,  0.20000384,\n",
              "         0.48764781,  0.01772912, -0.24182798,  0.60954426, -0.00155238,\n",
              "         0.63339787,  0.4345655 ,  0.10451029,  0.28195087,  0.12423297,\n",
              "        -0.07562832,  0.01227822, -0.02510361,  0.00726512]),\n",
              " array([ 0.32937467,  0.9401416 ,  0.06621354,  0.41658487,  0.21993467,\n",
              "         0.60068406,  0.02617569, -0.25361874,  0.62624781, -0.02844544,\n",
              "         0.67621095,  0.45845871,  0.0880216 ,  0.27978824,  0.13598169,\n",
              "        -0.09768359,  0.01656543, -0.03279487,  0.00982478]),\n",
              " array([ 0.24531948,  1.13761151,  0.07286178,  0.4774922 ,  0.2415094 ,\n",
              "         0.73881463,  0.03717582, -0.2611302 ,  0.63023671, -0.05991964,\n",
              "         0.71922379,  0.48160498,  0.06698821,  0.27812741,  0.1476926 ,\n",
              "        -0.12508529,  0.02228264, -0.04284536,  0.01326611]),\n",
              " array([ 0.1435482 ,  1.37929734,  0.07999484,  0.54179368,  0.26393219,\n",
              "         0.90467818,  0.05128863, -0.26442052,  0.62116703, -0.0955613 ,\n",
              "         0.76350787,  0.50410208,  0.04109169,  0.27692596,  0.15935413,\n",
              "        -0.15855204,  0.02990935, -0.05596537,  0.0179032 ]),\n",
              " array([ 0.02363255,  1.67061387,  0.08753565,  0.60440494,  0.28597299,\n",
              "         1.09981641,  0.06915608, -0.26372195,  0.59926001, -0.13453482,\n",
              "         0.81009977,  0.52597367,  0.01019011,  0.27613096,  0.17096354,\n",
              "        -0.19858115,  0.04008731, -0.07307487,  0.0241626 ]),\n",
              " array([-0.11378671,  2.01514908,  0.09564972,  0.65756367,  0.30609314,\n",
              "         1.32423652,  0.0915081 , -0.2594123 ,  0.56525502, -0.17562381,\n",
              "         0.85987142,  0.54713291, -0.02559235,  0.27568181,  0.18246959,\n",
              "        -0.2452718 ,  0.05367214, -0.09536904,  0.0326191 ]),\n",
              " array([-0.26670385,  2.41363844,  0.10508862,  0.69098126,  0.32269376,\n",
              "         1.57613996,  0.11917122, -0.25199043,  0.52034556, -0.21743938,\n",
              "         0.91346331,  0.56741057, -0.06581575,  0.27551143,  0.19373753,\n",
              "        -0.29813006,  0.07179912, -0.12440747,  0.04403999]),\n",
              " array([-0.43167285,  2.86310628,  0.11765572,  0.6927572 ,  0.33439715,\n",
              "         1.85191019,  0.15308516, -0.24204868,  0.46608227, -0.25878513,\n",
              "         0.97127119,  0.58665136, -0.10973206,  0.2755476 ,  0.20454612,\n",
              "        -0.35589354,  0.09596621, -0.16223522,  0.05943915]),\n",
              " array([-0.6040179 ,  3.35644666,  0.13671717,  0.65112408,  0.34019682,\n",
              "         2.14635766,  0.19433224, -0.23023687,  0.40424807, -0.29906764,\n",
              "         1.03344795,  0.60484538, -0.15634765,  0.27571572,  0.21461709,\n",
              "        -0.41642724,  0.12813948, -0.21154533,  0.0801436 ]),\n",
              " array([-0.77830722,  3.88264504,  0.16761906,  0.55675758,  0.33933019,\n",
              "         2.45312403,  0.24418475, -0.21721953,  0.33673633, -0.3385693 ,\n",
              "         1.09987502,  0.62223123, -0.20451768,  0.27594368,  0.2236679 ,\n",
              "        -0.47674786,  0.17088798, -0.27589485,  0.10787726]),\n",
              " array([-0.94897769,  4.42767568,  0.21783329,  0.40503507,  0.33087526,\n",
              "         2.76512455,  0.30417652, -0.20363305,  0.26546633, -0.37843093,\n",
              "         1.17008688,  0.63931124, -0.25304248,  0.27616801,  0.23147139,\n",
              "        -0.53322691,  0.22755856, -0.35998977,  0.14486916]),\n",
              " array([-1.11095288,  4.97592285,  0.29665745,  0.19746729,  0.31327399,\n",
              "         3.07497739,  0.37620355, -0.19005043,  0.19234109, -0.42032842,\n",
              "         1.24318757,  0.65676164, -0.30074808,  0.27633977,  0.23790421,\n",
              "        -0.58199675,  0.3025042 , -0.47005898,  0.19399524]),\n",
              " array([-1.26011918,  5.51184871,  0.4143498 , -0.05827957,  0.28409378,\n",
              "         3.37545591,  0.46264872, -0.17695715,  0.11921725, -0.46597955,\n",
              "         1.31783559,  0.67527456, -0.34655253,  0.27642815,  0.24297057,\n",
              "        -0.61952664,  0.40138114, -0.61434165,  0.25896264]),\n",
              " array([-1.39359306,  6.02159062,  0.58069505, -0.34983106,  0.24025666,\n",
              "         3.66000488,  0.56650459, -0.16473766,  0.04784951, -0.51667315,\n",
              "         1.39235321,  0.69539447, -0.389528  ,  0.27642056,  0.24679657,\n",
              "        -0.64325304,  0.5315299 , -0.80371445,  0.34454253]),\n",
              " array([-1.5097815 ,  6.49419307,  0.80316402, -0.66248462,  0.17873841,\n",
              "         3.9232733 ,  0.69144007, -0.15367066, -0.02019658, -0.57295067,\n",
              "         1.46494569,  0.71739679, -0.42895941,  0.27631954,  0.24959917,\n",
              "        -0.6520776 ,  0.70245206, -1.05248262,  0.45685054]),\n",
              " array([-1.60827968,  6.92225972,  1.0850129 , -0.98166033,  0.09750881,\n",
              "         4.16152392,  0.84173537, -0.14393249, -0.08363246, -0.63446354,\n",
              "         1.5339501 ,  0.74122336, -0.46438666,  0.2761376 ,  0.2516403 ,\n",
              "        -0.64655042,  0.92638753, -1.37935217,  0.60366354]),\n",
              " array([-1.68966187e+00,  7.30195969e+00,  1.42381149e+00, -1.29468666e+00,\n",
              "        -3.62900944e-03,  4.37278186e+00,  1.02201054e+00, -1.35608227e-01,\n",
              "        -1.41494723e-01, -6.99968600e-01,  1.59802280e+00,  7.66468354e-01,\n",
              "        -4.95614137e-01,  2.75891667e-01,  2.53178738e-01, -6.28664546e-01,\n",
              "         1.21898388e+00, -1.80858680e+00,  7.94743507e-01]),\n",
              " array([-1.75521934,  7.63250922,  1.810921  , -1.59163889, -0.12260881,\n",
              "         4.55668845,  1.23670227, -0.12870825, -0.19313812, -0.76742926,\n",
              "         1.65621877,  0.79240809, -0.52268312,  0.27559826,  0.25443116,\n",
              "        -0.60134741,  1.60002415, -2.37132894,  1.04210968]),\n",
              " array([-1.80669081,  7.91538656,  2.23228563, -1.86540884, -0.25524844,\n",
              "         4.71414786,  1.4893048 , -0.12318631, -0.23819186, -0.83422019,\n",
              "         1.70797608,  0.81807576, -0.54581766,  0.27526998,  0.25554995,\n",
              "        -0.56784719,  2.09413745, -3.10702231,  1.36015201]),\n",
              " array([-1.8460197 ,  8.15355087,  2.67052913, -2.11139641, -0.39594744,\n",
              "         4.84691116,  1.7814807 , -0.11895504, -0.2765114 , -0.89743421,\n",
              "         1.75305172,  0.84237965, -0.56536284,  0.27491346,  0.25661944,\n",
              "        -0.53121227,  2.73135033, -4.06480085,  1.76540696]),\n",
              " array([-1.87515919,  8.35083325,  3.107865  , -2.32714395, -0.53872158,\n",
              "         4.95721543,  2.11225087, -0.115897  , -0.30814612, -0.95425156,\n",
              "         1.79145062,  0.8642477 , -0.58173065,  0.27452851,  0.2576669 ,\n",
              "        -0.49397252,  3.5472491 , -5.30458807,  2.27572284]),\n",
              " array([-1.89593262,  8.51152795,  3.52898445, -2.51203537, -0.67825363,\n",
              "         5.04752698,  2.47754217, -0.11387258, -0.33332037, -1.00228798,\n",
              "         1.82336571,  0.88276469, -0.59535973,  0.27410836,  0.25868123,\n",
              "        -0.45802465,  4.5824306 , -6.89746573,  2.9084461 ]),\n",
              " array([-1.90994639,  8.64011983,  3.92310473, -2.66702658, -0.81066339,\n",
              "         5.12038018,  2.87033297, -0.11272745, -0.3524116 , -1.03983364,\n",
              "         1.84912635,  0.89726768, -0.60668768,  0.2736409 ,  0.25963217,\n",
              "        -0.42465708,  5.88086742, -8.92461954,  3.67721061]),\n",
              " array([ -1.9185465 ,   8.74107098,   4.28473642,  -2.79433964,\n",
              "         -0.9338395 ,   5.17828063,   3.28144629,  -0.11230164,\n",
              "         -0.36591278,  -1.06594   ,   1.86914816,   0.90738272,\n",
              "         -0.61613119,   0.27311095,   0.26048537,  -0.39463809,\n",
              "          7.48688573, -11.47390082,   4.58699972]),\n",
              " array([ -1.92280945,   8.81862902,   4.61322124,  -2.89710054,\n",
              "         -1.0473443 ,   5.22364529,   3.70075885,  -0.11244021,\n",
              "         -0.3743809 ,  -1.08037534,   1.88388412,   0.91301087,\n",
              "         -0.62407042,   0.27250335,   0.26121161,  -0.36831577,\n",
              "          9.44075517, -14.63288659,   5.62749321]),\n",
              " array([ -1.92356056,   8.87666466,   4.91143543,  -2.97895449,\n",
              "         -1.15201594,   5.25876301,   4.1183964 ,  -0.11300313,\n",
              "         -0.37838604,  -1.08351161,   1.89378531,   0.9142872 ,\n",
              "         -0.63083652,   0.27180653,   0.26179136,  -0.34571301,\n",
              "         11.77349146, -18.47751473,   6.76539754]),\n",
              " array([ -1.92141509,   8.91856616,   5.18414497,  -3.04370749,\n",
              "         -1.24942102,   5.28576369,   4.52552842,  -0.11387199,\n",
              "         -0.37847759,  -1.07620488,   1.89928279,   0.9115363 ,\n",
              "         -0.63670275,   0.2710162 ,   0.26221639,  -0.32662596,\n",
              "         14.50228148, -23.05623072,   7.93741531]),\n",
              " array([ -1.9168372 ,   8.94720973,   5.43641484,  -3.09502361,\n",
              "         -1.34128685,   5.3065845 ,   4.91465054,  -0.11495231,\n",
              "         -0.37517654,  -1.05970019,   1.90079754,   0.90523597,\n",
              "         -0.64188083,   0.2701382 ,   0.26249027,  -0.31073979,\n",
              "         17.62856776, -28.37133375,   9.04636776]),\n",
              " array([ -1.91020764,   8.96500212,   5.67234167,  -3.13618385,\n",
              "         -1.42900845,   5.322925  ,   5.27955004,  -0.11617225,\n",
              "         -0.3689901 ,  -1.03555364,   1.8987753 ,   0.89598626,\n",
              "         -0.64652367,   0.26918984,   0.2626287 ,  -0.29776325,\n",
              "         21.14061583, -34.36165434,   9.96309192]),\n",
              " array([ -1.9018865 ,   8.97396885,   5.89427279,  -3.1699073 ,\n",
              "         -1.51330506,   5.33619318,   5.61526783,  -0.11747948,\n",
              "         -0.36043415,  -1.00554354,   1.89373069,   0.88447345,\n",
              "         -0.65073445,   0.26819911,   0.2626597 ,  -0.28756179,\n",
              "         25.02082282, -40.89283183,  10.53556402]),\n",
              " array([ -1.8922552 ,   8.97585015,   6.10259019,  -3.19824669,\n",
              "         -1.59408394,   5.34745951,   5.91823878,  -0.11883796,\n",
              "         -0.35004602,  -0.97154793,   1.8862764 ,   0.87142105,\n",
              "         -0.65458032,   0.26720152,   0.26262266,  -0.28024984,\n",
              "         29.25541136, -47.76155677,  10.6044871 ]),\n",
              " array([ -1.88172685,   8.9721717 ,   6.29603819,  -3.22257863,\n",
              "         -1.67053515,   5.35744342,   6.18654873,  -0.12022504,\n",
              "         -0.33837543,  -0.93539098,   1.87711554,   0.85752944,\n",
              "         -0.65810715,   0.26623519,   0.26256519,  -0.27620138,\n",
              "         33.84186587, -54.71675408,  10.02251324]),\n",
              " array([ -1.87072564,   8.96427673,   6.47244819,  -3.24369538,\n",
              "         -1.74141952,   5.36654802,   6.42009476,  -0.12162856,\n",
              "         -0.3259544 ,  -0.89868802,   1.86699113,   0.84341625,\n",
              "         -0.66135151,   0.2653354 ,   0.26253754,  -0.27596038,\n",
              "         38.78918874, -61.4943233 ,   8.673658  ]),\n",
              " array([ -1.85964908,   8.95332991,   6.62960686,  -3.26197325,\n",
              "         -1.80544929,   5.37493759,   6.62047039,  -0.12304314,\n",
              "         -0.3132593 ,  -0.86273123,   1.85660844,   0.82957352,\n",
              "         -0.6643471 ,   0.26452985,   0.26258525,  -0.28006946,\n",
              "         44.10843684, -67.8558909 ,   6.49041872]),\n",
              " array([ -1.8488328 ,   8.94031682,   6.76599454,  -3.27756575,\n",
              "         -1.86163425,   5.38263336,   6.79055551,  -0.12446563,\n",
              "         -0.30068277,  -0.82844672,   1.84655905,   0.81635288,\n",
              "         -0.66712531,   0.26383594,   0.26274191,  -0.28886809,\n",
              "         49.79512404, -73.62002534,   3.46727923]),\n",
              " array([ -1.83853302,   8.92605782,   6.88120801,  -3.29056742,\n",
              "         -1.90949634,   5.38959863,   6.93393754,  -0.12589019,\n",
              "         -0.28852654,  -0.79642622,   1.83727272,   0.80397943,\n",
              "         -0.66971175,   0.26326004,   0.26302387,  -0.3023224 ,\n",
              "         55.80914591, -78.67794982,  -0.33080214]),\n",
              " array([ -1.82892927,   8.91123827,   6.97602686,  -3.30111624,\n",
              "         -1.94912136,   5.3957956 ,   7.05434244,  -0.12730447,\n",
              "         -0.27701409,  -0.76700798,   1.82900728,   0.7925838 ,\n",
              "         -0.67212183,   0.26279885,   0.26342829,  -0.31993817,\n",
              "         62.06019241, -82.99251808,  -4.76760501]),\n",
              " array([ -1.82013957,   8.89644106,   7.05220527,  -3.30943185,\n",
              "         -1.98107762,   5.40121196,   7.15521511,  -0.12868815,\n",
              "         -0.26631147,  -0.74036794,   1.82187009,   0.78223736,\n",
              "         -0.6743585 ,   0.26244179,   0.26393489,  -0.34078382,\n",
              "         68.40592996, -86.58497542,  -9.64589406]),\n",
              " array([ -1.81223659,   8.88216502,   7.11212329,  -3.31580617,\n",
              "         -2.00626147,   5.40586611,   7.23950667,  -0.13001458,\n",
              "         -0.25654371,  -0.71658759,   1.81585603,   0.77297757,\n",
              "         -0.67641368,   0.26217392,   0.26451098,  -0.36361883,\n",
              "         74.66612748, -89.51629481, -14.73005735]),\n",
              " array([ -1.80525773,   8.86882244,   7.15842076,  -3.32056982,\n",
              "         -2.02572792,   5.40980189,   7.30964794,  -0.13125507,\n",
              "         -0.24780017,  -0.6956852 ,   1.81088769,   0.76481873,\n",
              "         -0.67827327,   0.26197859,   0.26511835,  -0.38709127,\n",
              "         80.64955348, -91.86889443, -19.77787797]),\n",
              " array([ -1.79920825,   8.85672296,   7.19369451,  -3.32405395,\n",
              "         -2.04054656,   5.41308056,   7.36763964,  -0.13238414,\n",
              "         -0.240131  ,  -0.6776179 ,   1.80684908,   0.75775145,\n",
              "         -0.67992366,   0.26183963,   0.2657202 ,  -0.40994665,\n",
              "         86.18494577, -93.73207465, -24.57357986]),\n",
              " array([ -1.79406187,   8.84605857,   7.22029406,  -3.32655991,\n",
              "         -2.05170136,   5.41577356,   7.41517936,  -0.13338387,\n",
              "         -0.23354184,  -0.66227339,   1.80360973,   0.75173836,\n",
              "         -0.68135748,   0.26174274,   0.26628654,  -0.43119   ,\n",
              "         91.14591671, -95.19217684, -28.95307797]),\n",
              " array([ -1.78976306,   8.83690199,   7.24021679,  -3.32834172,\n",
              "         -2.06003641,   5.41795666,   7.45376709,  -0.13424612,\n",
              "         -0.22799326,  -0.64946793,   1.80104019,   0.74671281,\n",
              "         -0.6825766 ,   0.26167617,   0.26679692,  -0.45016675,\n",
              "         95.463099  , -96.32699505, -32.81562242]),\n",
              " array([ -1.78623299,   8.82922177,   7.25508225,  -3.32960072,\n",
              "         -2.06623906,   5.41970537,   7.48476496,  -0.1349722 ,\n",
              "         -0.22340746,  -0.63895756,   1.79902077,   0.74258307,\n",
              "         -0.68359234,   0.26163086,   0.26724066,  -0.46656117,\n",
              "         99.12270867, -97.2033658 , -36.12157378]),\n",
              " array([ -1.7833782 ,   8.82290913,   7.26615816,  -3.33048896,\n",
              "         -2.07084791,   5.42109133,   7.509416  ,  -0.13557094,\n",
              "         -0.21968008,  -0.63045984,   1.79744589,   0.739241  ,\n",
              "         -0.68442333,   0.26160015,   0.26761525,  -0.48033703,\n",
              "        102.15545096, -97.87681855, -38.88050737]),\n",
              " array([ -1.78109993,   8.81780859,   7.27441217,  -3.33111713,\n",
              "         -2.07427357,   5.42217975,   7.5288397 ,  -0.13605601,\n",
              "         -0.21669368,  -0.6236789 ,   1.7962255 ,   0.73657218,\n",
              "         -0.68509255,   0.26157929,   0.26792401,  -0.49165312,\n",
              "        104.62138682, -98.39238568, -41.13535508]),\n",
              " array([ -1.77930191,   8.81374517,   7.28057067,  -3.33156368,\n",
              "         -2.07682349,   5.42302793,   7.54402153,  -0.13644325,\n",
              "         -0.21432963,  -0.61832752,   1.79528467,   0.7344648 ,\n",
              "         -0.68562444,   0.26156506,   0.26817367,  -0.5007805 ,\n",
              "        106.59540858, -98.78594571, -42.94724371]),\n",
              " array([ -1.77789585,   8.81054479,   7.28517355,  -3.33188334,\n",
              "         -2.07872539,   5.42368469,   7.55580725,  -0.13674874,\n",
              "         -0.21247661,  -0.61414271,   1.79456241,   0.7328161 ,\n",
              "         -0.68604264,   0.26155527,   0.26837251,  -0.5080364 ,\n",
              "        108.15589045, -99.08571269, -44.38358387]),\n",
              " array([ -1.7768044 ,   8.80804703,   7.28862022,  -3.33211392,\n",
              "         -2.08014706,   5.42419062,   7.56490537,  -0.13698747,\n",
              "         -0.21103564,  -0.61089419,   1.79400976,   0.73153586,\n",
              "         -0.68636864,   0.26154846,   0.268529  ,  -0.51373905,\n",
              "        109.37719305, -99.31365911, -45.51008002]),\n",
              " array([ -1.77596212,   8.80611157,   7.29120578,  -3.33228154,\n",
              "         -2.08121201,   5.42457876,   7.57189709,  -0.13717263,\n",
              "         -0.20992213,  -0.60838725,   1.79358801,   0.73054761,\n",
              "         -0.68662101,   0.26154367,   0.26865103,  -0.51818117,\n",
              "        110.32555799, -99.48677333, -46.38619364]),\n",
              " array([ -1.77531513,   8.80462022,   7.29314852,  -3.33240426,\n",
              "         -2.08201127,   5.42487557,   7.57725081,  -0.13731541,\n",
              "         -0.2090659 ,  -0.60646148,   1.7932668 ,   0.72978833,\n",
              "         -0.68681534,   0.26154026,   0.2687455 ,  -0.52161761,\n",
              "        111.05748828, -99.61811926, -47.06315392]),\n",
              " array([ -1.77481992,   8.80347606,   7.29461029,  -3.33249467,\n",
              "         -2.0826121 ,   5.42510197,   7.58133874,  -0.13742502,\n",
              "         -0.20841002,  -0.60498748,   1.79302257,   0.72920707,\n",
              "         -0.68696435,   0.2615378 ,   0.26881824,  -0.52426193,\n",
              "        111.61971017, -99.71770228, -47.5836089 ]),\n",
              " array([ -1.77444193,   8.80260119,   7.29571143,  -3.33256165,\n",
              "         -2.08306438,   5.42527432,   7.58445333,  -0.13750886,\n",
              "         -0.20790911,  -0.60386238,   1.79283708,   0.72876336,\n",
              "         -0.68707825,   0.26153602,   0.26887401,  -0.52628845,\n",
              "        112.05000242, -99.79316204, -47.98219881]),\n",
              " array([ -1.77415404,   8.80193394,   7.29654169,  -3.33261149,\n",
              "         -2.0834052 ,   5.42540533,   7.5868223 ,  -0.13757282,\n",
              "         -0.20752741,  -0.60300544,   1.79269635,   0.72842537,\n",
              "         -0.6871651 ,   0.26153472,   0.26891663,  -0.52783666,\n",
              "        112.3784051 , -99.85031844, -48.28655768]),\n",
              " array([ -1.77393513,   8.80142605,   7.29716817,  -3.33264871,\n",
              "         -2.08366225,   5.4255048 ,   7.58862182,  -0.13762153,\n",
              "         -0.20723707,  -0.60235381,   1.79258964,   0.72816834,\n",
              "         -0.68723119,   0.26153376,   0.26894912,  -0.52901664,\n",
              "        112.62851072, -99.89359748, -48.5184391 ]),\n",
              " array([ -1.77376887,   8.80104004,   7.29764116,  -3.33267659,\n",
              "         -2.08385626,   5.42558026,   7.5899874 ,  -0.13765855,\n",
              "         -0.20701651,  -0.60185892,   1.79250878,   0.72797313,\n",
              "         -0.68728141,   0.26153305,   0.26897385,  -0.52991435,\n",
              "        112.81867726, -99.92636072, -48.69479898]),\n",
              " array([ -1.77364273,   8.80074698,   7.29799843,  -3.33269751,\n",
              "         -2.08400277,   5.42563746,   7.59102289,  -0.13768666,\n",
              "         -0.20684914,  -0.60148343,   1.79244754,   0.72782501,\n",
              "         -0.68731954,   0.26153252,   0.26899264,  -0.53059637,\n",
              "        112.96309068, -99.9511588 , -48.82875626]),\n",
              " array([ -1.77354709,   8.80052469,   7.29826839,  -3.33271325,\n",
              "         -2.08411345,   5.4256808 ,   7.59180764,  -0.13770798,\n",
              "         -0.20672221,  -0.60119874,   1.79240116,   0.7277127 ,\n",
              "         -0.68734845,   0.26153212,   0.26900689,  -0.53111398,\n",
              "        113.07265596, -99.96992559, -48.93040498]),\n",
              " array([ -1.77347462,   8.8003562 ,   7.29847242,  -3.3327251 ,\n",
              "         -2.08419709,   5.42571363,   7.59240209,  -0.13772415,\n",
              "         -0.20662603,  -0.60098301,   1.79236605,   0.7276276 ,\n",
              "         -0.68737037,   0.26153183,   0.26901771,  -0.5315065 ,\n",
              "        113.15572296, -99.98412652, -49.00747947]),\n",
              " array([ -1.77341973,   8.80022854,   7.29862666,  -3.33273404,\n",
              "         -2.08426031,   5.42573848,   7.59285224,  -0.1377364 ,\n",
              "         -0.20655316,  -0.6008196 ,   1.79233948,   0.72756313,\n",
              "         -0.68738697,   0.2615316 ,   0.26902591,  -0.53180399,\n",
              "        113.21866622, -99.99487162, -49.06588735]),\n",
              " array([  -1.77337816,    8.80013185,    7.29874329,   -3.33274078,\n",
              "          -2.08430811,    5.4257573 ,    7.59319304,   -0.13774567,\n",
              "          -0.20649799,   -0.60069587,    1.79231937,    0.72751432,\n",
              "          -0.68739955,    0.26153143,    0.26903212,   -0.53202934,\n",
              "         113.26634136, -100.00300137,  -49.11013034]),\n",
              " array([  -1.77334669,    8.80005865,    7.29883147,   -3.33274587,\n",
              "          -2.08434425,    5.42577154,    7.59345099,   -0.1377527 ,\n",
              "          -0.20645621,   -0.6006022 ,    1.79230415,    0.72747737,\n",
              "          -0.68740907,    0.26153131,    0.26903682,   -0.5322    ,\n",
              "         113.30244074, -100.00915209,  -49.1436327 ]),\n",
              " array([  -1.77332287,    8.80000323,    7.29889816,   -3.33274971,\n",
              "          -2.08437158,    5.42578232,    7.59364621,   -0.13775801,\n",
              "          -0.2064246 ,   -0.6005313 ,    1.79229263,    0.7274494 ,\n",
              "          -0.68741627,    0.26153121,    0.26904038,   -0.5323292 ,\n",
              "         113.32976859, -100.01380537,  -49.16899556]),\n",
              " array([  -1.77330485,    8.79996129,    7.2989486 ,   -3.33275262,\n",
              "          -2.08439225,    5.42579047,    7.59379394,   -0.13776204,\n",
              "          -0.20640067,   -0.60047764,    1.79228392,    0.72742823,\n",
              "          -0.68742173,    0.26153114,    0.26904307,   -0.532427  ,\n",
              "         113.35045256, -100.01732569,  -49.18819285])]"
            ]
          },
          "metadata": {},
          "execution_count": 19
        }
      ]
    },
    {
      "cell_type": "code",
      "source": [
        "ax = plt.gca()\n",
        "\n",
        "ax.plot(lambdalar, Katsayılar) #her bir lambda değerine karşılık gelecek şekilde katsayılar nasıl oluşmuştur.\n",
        "ax.set_xscale('log')"
      ],
      "metadata": {
        "colab": {
          "base_uri": "https://localhost:8080/",
          "height": 434
        },
        "id": "aJD4q4gOZ_jF",
        "outputId": "3d1ec8ef-e4be-4fef-8f98-9236215d1126"
      },
      "execution_count": 20,
      "outputs": [
        {
          "output_type": "display_data",
          "data": {
            "text/plain": [
              "<Figure size 640x480 with 1 Axes>"
            ],
            "image/png": "[encoded data removed]"
          },
          "metadata": {}
        }
      ]
    },
    {
      "cell_type": "markdown",
      "source": [
        "Bu grafiğe göre lambdalar yani değerler arttıkça değerleri sıfıra doğru yaklaştırmış. Burada amaç optimum lambda değerini bularak değerlerin en anlamlı hangi lambdada olduğuu bulmaktır."
      ],
      "metadata": {
        "id": "vPHylXVvagME"
      }
    },
    {
      "cell_type": "markdown",
      "source": [
        "# **Tahmin**"
      ],
      "metadata": {
        "id": "3dou6IVkbCRm"
      }
    },
    {
      "cell_type": "code",
      "source": [
        "ridge_model = Ridge().fit(x_train,y_train)"
      ],
      "metadata": {
        "id": "JI-BobtabSn5"
      },
      "execution_count": 24,
      "outputs": []
    },
    {
      "cell_type": "code",
      "source": [
        "y_pred = ridge_model.predict(x_train)"
      ],
      "metadata": {
        "id": "FiGnGKNja8QP"
      },
      "execution_count": 25,
      "outputs": []
    },
    {
      "cell_type": "code",
      "source": [
        "y_pred [0:10] #tahmin edilen değerler"
      ],
      "metadata": {
        "colab": {
          "base_uri": "https://localhost:8080/"
        },
        "id": "K0fkMiAAbqaK",
        "outputId": "c1ba9ab9-508b-4cc9-8916-e5b70357b622"
      },
      "execution_count": 27,
      "outputs": [
        {
          "output_type": "execute_result",
          "data": {
            "text/plain": [
              "array([ 376.25245449,  803.38498121,  496.17669652,  112.69554648,\n",
              "        427.60020221, 1003.6309402 ,  153.45713944,  361.33880956,\n",
              "        483.29143665,  916.91439669])"
            ]
          },
          "metadata": {},
          "execution_count": 27
        }
      ]
    },
    {
      "cell_type": "code",
      "source": [
        "y_train [0:10] #Gerçek değerler"
      ],
      "metadata": {
        "colab": {
          "base_uri": "https://localhost:8080/"
        },
        "id": "ctC4zZKfbuL8",
        "outputId": "19c12ef8-7025-4ddb-a80b-e6b5692b8024"
      },
      "execution_count": 29,
      "outputs": [
        {
          "output_type": "execute_result",
          "data": {
            "text/plain": [
              "183     125.0\n",
              "229    1940.0\n",
              "286     940.0\n",
              "102     375.0\n",
              "153     100.0\n",
              "320     960.0\n",
              "135      90.0\n",
              "213     100.0\n",
              "308     750.0\n",
              "161     657.0\n",
              "Name: Salary, dtype: float64"
            ]
          },
          "metadata": {},
          "execution_count": 29
        }
      ]
    },
    {
      "cell_type": "markdown",
      "source": [
        "Elimizde hem train hatası hem test hatası olacak. Train hatası test hatasının kötü bir tahmincisidir"
      ],
      "metadata": {
        "id": "2JDafwe_b6EA"
      }
    },
    {
      "cell_type": "markdown",
      "source": [
        "***Train Hatası***"
      ],
      "metadata": {
        "id": "_XyjORBEdTwC"
      }
    },
    {
      "cell_type": "code",
      "source": [
        "RMSE = np.sqrt(mean_squared_error(y_train,y_pred))\n",
        "RMSE"
      ],
      "metadata": {
        "colab": {
          "base_uri": "https://localhost:8080/"
        },
        "id": "BMVHQBFMcAoU",
        "outputId": "54ef181f-e113-4835-a0dd-fc209d899425"
      },
      "execution_count": 30,
      "outputs": [
        {
          "output_type": "execute_result",
          "data": {
            "text/plain": [
              "289.34470696006565"
            ]
          },
          "metadata": {},
          "execution_count": 30
        }
      ]
    },
    {
      "cell_type": "code",
      "source": [
        "np.sqrt(np.mean(-cross_val_score(ridge_model,x_train,y_train,cv=10,scoring='neg_mean_squared_error')))"
      ],
      "metadata": {
        "colab": {
          "base_uri": "https://localhost:8080/"
        },
        "id": "ZbWbJyMXci7c",
        "outputId": "a2b1b401-e068-4894-af03-08738952fc33"
      },
      "execution_count": 35,
      "outputs": [
        {
          "output_type": "execute_result",
          "data": {
            "text/plain": [
              "351.3931585606325"
            ]
          },
          "metadata": {},
          "execution_count": 35
        }
      ]
    },
    {
      "cell_type": "markdown",
      "source": [
        "***Test Hatası***"
      ],
      "metadata": {
        "id": "4A_Ir1J2dWVs"
      }
    },
    {
      "cell_type": "code",
      "source": [
        "y_pred= ridge_model.predict(x_test)"
      ],
      "metadata": {
        "id": "zKCShKGydZec"
      },
      "execution_count": 36,
      "outputs": []
    },
    {
      "cell_type": "code",
      "source": [
        "RMSE= np.sqrt(mean_squared_error(y_test,y_pred))\n",
        "RMSE"
      ],
      "metadata": {
        "colab": {
          "base_uri": "https://localhost:8080/"
        },
        "id": "8j-qZUmidqgj",
        "outputId": "c585de79-7806-4564-c3cc-1e4fac0b1369"
      },
      "execution_count": 37,
      "outputs": [
        {
          "output_type": "execute_result",
          "data": {
            "text/plain": [
              "356.80829057302424"
            ]
          },
          "metadata": {},
          "execution_count": 37
        }
      ]
    },
    {
      "cell_type": "markdown",
      "source": [
        "# **Model Tuning**"
      ],
      "metadata": {
        "id": "UUhCAsS0edyk"
      }
    },
    {
      "cell_type": "code",
      "source": [
        "ridge_model = Ridge().fit(x_train,y_train)\n",
        "y_pred = ridge_model.predict(x_test)\n",
        "np.sqrt(mean_squared_error(y_test,y_pred))"
      ],
      "metadata": {
        "colab": {
          "base_uri": "https://localhost:8080/"
        },
        "id": "1pAUbcrcd0cE",
        "outputId": "d955a6cc-ded1-4c7b-a006-b22495c8fc59"
      },
      "execution_count": 38,
      "outputs": [
        {
          "output_type": "execute_result",
          "data": {
            "text/plain": [
              "356.80829057302424"
            ]
          },
          "metadata": {},
          "execution_count": 38
        }
      ]
    },
    {
      "cell_type": "code",
      "source": [
        "np.random.randint(0,100,10)"
      ],
      "metadata": {
        "colab": {
          "base_uri": "https://localhost:8080/"
        },
        "id": "e6Lg8_eVeoVB",
        "outputId": "e9005526-9677-46f6-80f7-097fd1dade1e"
      },
      "execution_count": 39,
      "outputs": [
        {
          "output_type": "execute_result",
          "data": {
            "text/plain": [
              "array([13, 66, 10, 82, 69,  1, 62, 67,  9, 20])"
            ]
          },
          "metadata": {},
          "execution_count": 39
        }
      ]
    },
    {
      "cell_type": "code",
      "source": [
        "lamdalar1 = np.random.randint(0,100,100)"
      ],
      "metadata": {
        "id": "JtqMU6_vfneK"
      },
      "execution_count": 40,
      "outputs": []
    },
    {
      "cell_type": "code",
      "source": [
        "lamdalar2= 10**np.linspace(10,-2,100)*0.5"
      ],
      "metadata": {
        "id": "3mSfuVt5ftO-"
      },
      "execution_count": 41,
      "outputs": []
    },
    {
      "cell_type": "code",
      "source": [
        "from sklearn.preprocessing import StandardScaler\n",
        "from sklearn.pipeline import make_pipeline\n",
        "\n",
        "\n",
        "ridgecv = RidgeCV(alphas=lamdalar2, scoring='neg_mean_squared_error', cv=10)\n",
        "ridgecv.fit(x_train,y_train)"
      ],
      "metadata": {
        "colab": {
          "base_uri": "https://localhost:8080/",
          "height": 252
        },
        "id": "pyp1FByLgBPX",
        "outputId": "cbf941d5-71f2-453f-d925-2c120f5f0269"
      },
      "execution_count": 50,
      "outputs": [
        {
          "output_type": "execute_result",
          "data": {
            "text/plain": [
              "RidgeCV(alphas=array([5.00000000e+09, 3.78231664e+09, 2.86118383e+09, 2.16438064e+09,\n",
              "       1.63727458e+09, 1.23853818e+09, 9.36908711e+08, 7.08737081e+08,\n",
              "       5.36133611e+08, 4.05565415e+08, 3.06795364e+08, 2.32079442e+08,\n",
              "       1.75559587e+08, 1.32804389e+08, 1.00461650e+08, 7.59955541e+07,\n",
              "       5.74878498e+07, 4.34874501e+07, 3.28966612e+07, 2.48851178e+07,\n",
              "       1.88246790e+07, 1.42401793e+0...\n",
              "       3.06795364e+00, 2.32079442e+00, 1.75559587e+00, 1.32804389e+00,\n",
              "       1.00461650e+00, 7.59955541e-01, 5.74878498e-01, 4.34874501e-01,\n",
              "       3.28966612e-01, 2.48851178e-01, 1.88246790e-01, 1.42401793e-01,\n",
              "       1.07721735e-01, 8.14875417e-02, 6.16423370e-02, 4.66301673e-02,\n",
              "       3.52740116e-02, 2.66834962e-02, 2.01850863e-02, 1.52692775e-02,\n",
              "       1.15506485e-02, 8.73764200e-03, 6.60970574e-03, 5.00000000e-03]),\n",
              "        cv=10, scoring='neg_mean_squared_error')"
            ],
            "text/html": [
              "<style>#sk-container-id-5 {color: black;background-color: white;}#sk-container-id-5 pre{padding: 0;}#sk-container-id-5 div.sk-toggleable {background-color: white;}#sk-container-id-5 label.sk-toggleable__label {cursor: pointer;display: block;width: 100%;margin-bottom: 0;padding: 0.3em;box-sizing: border-box;text-align: center;}#sk-container-id-5 label.sk-toggleable__label-arrow:before {content: \"▸\";float: left;margin-right: 0.25em;color: #696969;}#sk-container-id-5 label.sk-toggleable__label-arrow:hover:before {color: black;}#sk-container-id-5 div.sk-estimator:hover label.sk-toggleable__label-arrow:before {color: black;}#sk-container-id-5 div.sk-toggleable__content {max-height: 0;max-width: 0;overflow: hidden;text-align: left;background-color: #f0f8ff;}#sk-container-id-5 div.sk-toggleable__content pre {margin: 0.2em;color: black;border-radius: 0.25em;background-color: #f0f8ff;}#sk-container-id-5 input.sk-toggleable__control:checked~div.sk-toggleable__content {max-height: 200px;max-width: 100%;overflow: auto;}#sk-container-id-5 input.sk-toggleable__control:checked~label.sk-toggleable__label-arrow:before {content: \"▾\";}#sk-container-id-5 div.sk-estimator input.sk-toggleable__control:checked~label.sk-toggleable__label {background-color: #d4ebff;}#sk-container-id-5 div.sk-label input.sk-toggleable__control:checked~label.sk-toggleable__label {background-color: #d4ebff;}#sk-container-id-5 input.sk-hidden--visually {border: 0;clip: rect(1px 1px 1px 1px);clip: rect(1px, 1px, 1px, 1px);height: 1px;margin: -1px;overflow: hidden;padding: 0;position: absolute;width: 1px;}#sk-container-id-5 div.sk-estimator {font-family: monospace;background-color: #f0f8ff;border: 1px dotted black;border-radius: 0.25em;box-sizing: border-box;margin-bottom: 0.5em;}#sk-container-id-5 div.sk-estimator:hover {background-color: #d4ebff;}#sk-container-id-5 div.sk-parallel-item::after {content: \"\";width: 100%;border-bottom: 1px solid gray;flex-grow: 1;}#sk-container-id-5 div.sk-label:hover label.sk-toggleable__label {background-color: #d4ebff;}#sk-container-id-5 div.sk-serial::before {content: \"\";position: absolute;border-left: 1px solid gray;box-sizing: border-box;top: 0;bottom: 0;left: 50%;z-index: 0;}#sk-container-id-5 div.sk-serial {display: flex;flex-direction: column;align-items: center;background-color: white;padding-right: 0.2em;padding-left: 0.2em;position: relative;}#sk-container-id-5 div.sk-item {position: relative;z-index: 1;}#sk-container-id-5 div.sk-parallel {display: flex;align-items: stretch;justify-content: center;background-color: white;position: relative;}#sk-container-id-5 div.sk-item::before, #sk-container-id-5 div.sk-parallel-item::before {content: \"\";position: absolute;border-left: 1px solid gray;box-sizing: border-box;top: 0;bottom: 0;left: 50%;z-index: -1;}#sk-container-id-5 div.sk-parallel-item {display: flex;flex-direction: column;z-index: 1;position: relative;background-color: white;}#sk-container-id-5 div.sk-parallel-item:first-child::after {align-self: flex-end;width: 50%;}#sk-container-id-5 div.sk-parallel-item:last-child::after {align-self: flex-start;width: 50%;}#sk-container-id-5 div.sk-parallel-item:only-child::after {width: 0;}#sk-container-id-5 div.sk-dashed-wrapped {border: 1px dashed gray;margin: 0 0.4em 0.5em 0.4em;box-sizing: border-box;padding-bottom: 0.4em;background-color: white;}#sk-container-id-5 div.sk-label label {font-family: monospace;font-weight: bold;display: inline-block;line-height: 1.2em;}#sk-container-id-5 div.sk-label-container {text-align: center;}#sk-container-id-5 div.sk-container {/* jupyter's `normalize.less` sets `[hidden] { display: none; }` but bootstrap.min.css set `[hidden] { display: none !important; }` so we also need the `!important` here to be able to override the default hidden behavior on the sphinx rendered scikit-learn.org. See: https://github.com/scikit-learn/scikit-learn/issues/21755 */display: inline-block !important;position: relative;}#sk-container-id-5 div.sk-text-repr-fallback {display: none;}</style><div id=\"sk-container-id-5\" class=\"sk-top-container\"><div class=\"sk-text-repr-fallback\"><pre>RidgeCV(alphas=array([5.00000000e+09, 3.78231664e+09, 2.86118383e+09, 2.16438064e+09,\n",
              "       1.63727458e+09, 1.23853818e+09, 9.36908711e+08, 7.08737081e+08,\n",
              "       5.36133611e+08, 4.05565415e+08, 3.06795364e+08, 2.32079442e+08,\n",
              "       1.75559587e+08, 1.32804389e+08, 1.00461650e+08, 7.59955541e+07,\n",
              "       5.74878498e+07, 4.34874501e+07, 3.28966612e+07, 2.48851178e+07,\n",
              "       1.88246790e+07, 1.42401793e+0...\n",
              "       3.06795364e+00, 2.32079442e+00, 1.75559587e+00, 1.32804389e+00,\n",
              "       1.00461650e+00, 7.59955541e-01, 5.74878498e-01, 4.34874501e-01,\n",
              "       3.28966612e-01, 2.48851178e-01, 1.88246790e-01, 1.42401793e-01,\n",
              "       1.07721735e-01, 8.14875417e-02, 6.16423370e-02, 4.66301673e-02,\n",
              "       3.52740116e-02, 2.66834962e-02, 2.01850863e-02, 1.52692775e-02,\n",
              "       1.15506485e-02, 8.73764200e-03, 6.60970574e-03, 5.00000000e-03]),\n",
              "        cv=10, scoring=&#x27;neg_mean_squared_error&#x27;)</pre><b>In a Jupyter environment, please rerun this cell to show the HTML representation or trust the notebook. <br />On GitHub, the HTML representation is unable to render, please try loading this page with nbviewer.org.</b></div><div class=\"sk-container\" hidden><div class=\"sk-item\"><div class=\"sk-estimator sk-toggleable\"><input class=\"sk-toggleable__control sk-hidden--visually\" id=\"sk-estimator-id-7\" type=\"checkbox\" checked><label for=\"sk-estimator-id-7\" class=\"sk-toggleable__label sk-toggleable__label-arrow\">RidgeCV</label><div class=\"sk-toggleable__content\"><pre>RidgeCV(alphas=array([5.00000000e+09, 3.78231664e+09, 2.86118383e+09, 2.16438064e+09,\n",
              "       1.63727458e+09, 1.23853818e+09, 9.36908711e+08, 7.08737081e+08,\n",
              "       5.36133611e+08, 4.05565415e+08, 3.06795364e+08, 2.32079442e+08,\n",
              "       1.75559587e+08, 1.32804389e+08, 1.00461650e+08, 7.59955541e+07,\n",
              "       5.74878498e+07, 4.34874501e+07, 3.28966612e+07, 2.48851178e+07,\n",
              "       1.88246790e+07, 1.42401793e+0...\n",
              "       3.06795364e+00, 2.32079442e+00, 1.75559587e+00, 1.32804389e+00,\n",
              "       1.00461650e+00, 7.59955541e-01, 5.74878498e-01, 4.34874501e-01,\n",
              "       3.28966612e-01, 2.48851178e-01, 1.88246790e-01, 1.42401793e-01,\n",
              "       1.07721735e-01, 8.14875417e-02, 6.16423370e-02, 4.66301673e-02,\n",
              "       3.52740116e-02, 2.66834962e-02, 2.01850863e-02, 1.52692775e-02,\n",
              "       1.15506485e-02, 8.73764200e-03, 6.60970574e-03, 5.00000000e-03]),\n",
              "        cv=10, scoring=&#x27;neg_mean_squared_error&#x27;)</pre></div></div></div></div></div>"
            ]
          },
          "metadata": {},
          "execution_count": 50
        }
      ]
    },
    {
      "cell_type": "code",
      "source": [
        "ridgecv.alpha_"
      ],
      "metadata": {
        "colab": {
          "base_uri": "https://localhost:8080/"
        },
        "id": "S55V9lNbg5El",
        "outputId": "fa8b81af-0cb5-4b30-e3fe-a9b61781ba1f"
      },
      "execution_count": 51,
      "outputs": [
        {
          "output_type": "execute_result",
          "data": {
            "text/plain": [
              "1526927.7544167063"
            ]
          },
          "metadata": {},
          "execution_count": 51
        }
      ]
    },
    {
      "cell_type": "markdown",
      "source": [
        "Final Modeli"
      ],
      "metadata": {
        "id": "6bHv5Ywth12x"
      }
    },
    {
      "cell_type": "code",
      "source": [
        "Ridge_Tuned= Ridge(alpha=ridgecv.alpha_).fit(x_train,y_train)"
      ],
      "metadata": {
        "id": "0-TXBDuxh5BG"
      },
      "execution_count": 52,
      "outputs": []
    },
    {
      "cell_type": "code",
      "source": [
        "y_pred = Ridge_Tuned.predict(x_test)\n",
        "np.sqrt(mean_squared_error(y_test,y_pred))"
      ],
      "metadata": {
        "colab": {
          "base_uri": "https://localhost:8080/"
        },
        "id": "LdxXwF8BiEJa",
        "outputId": "1f58dcd9-c4ce-4e75-dcc9-ac1ae7dbc2be"
      },
      "execution_count": 53,
      "outputs": [
        {
          "output_type": "execute_result",
          "data": {
            "text/plain": [
              "385.8643856146936"
            ]
          },
          "metadata": {},
          "execution_count": 53
        }
      ]
    }
  ]
}